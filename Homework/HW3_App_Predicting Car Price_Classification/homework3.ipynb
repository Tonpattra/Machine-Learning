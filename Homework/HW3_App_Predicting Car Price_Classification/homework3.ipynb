{
 "cells": [
  {
   "cell_type": "markdown",
   "metadata": {},
   "source": [
    "## Homework 2 A1: Predicting Car Price\n",
    "#### By Pattranit Teerakoson (st123052)\n",
    "\n",
    "## A1: Task 1 Experiment Preparing the datasets \n",
    "\n",
    "Download the Car Price dataset from Google classroom. Perform loading, EDA, preprocessing, model selection, · · · , inference. Grade will be given based on the how well\n",
    "you adhere to best practices. There are some important coding considerations:"
   ]
  },
  {
   "cell_type": "code",
   "execution_count": 1,
   "metadata": {},
   "outputs": [],
   "source": [
    "import numpy as np\n",
    "import pandas as pd\n",
    "import seaborn as sns\n",
    "import matplotlib.pyplot as plt \n",
    "import warnings\n",
    "warnings.filterwarnings('ignore')"
   ]
  },
  {
   "cell_type": "code",
   "execution_count": 2,
   "metadata": {},
   "outputs": [],
   "source": [
    "#Download Dataset\n",
    "df = pd.read_csv('../dataset/Cars.csv')"
   ]
  },
  {
   "cell_type": "code",
   "execution_count": 3,
   "metadata": {},
   "outputs": [
    {
     "data": {
      "text/html": [
       "<div>\n",
       "<style scoped>\n",
       "    .dataframe tbody tr th:only-of-type {\n",
       "        vertical-align: middle;\n",
       "    }\n",
       "\n",
       "    .dataframe tbody tr th {\n",
       "        vertical-align: top;\n",
       "    }\n",
       "\n",
       "    .dataframe thead th {\n",
       "        text-align: right;\n",
       "    }\n",
       "</style>\n",
       "<table border=\"1\" class=\"dataframe\">\n",
       "  <thead>\n",
       "    <tr style=\"text-align: right;\">\n",
       "      <th></th>\n",
       "      <th>name</th>\n",
       "      <th>year</th>\n",
       "      <th>selling_price</th>\n",
       "      <th>km_driven</th>\n",
       "      <th>fuel</th>\n",
       "      <th>seller_type</th>\n",
       "      <th>transmission</th>\n",
       "      <th>owner</th>\n",
       "      <th>mileage</th>\n",
       "      <th>engine</th>\n",
       "      <th>max_power</th>\n",
       "      <th>torque</th>\n",
       "      <th>seats</th>\n",
       "    </tr>\n",
       "  </thead>\n",
       "  <tbody>\n",
       "    <tr>\n",
       "      <th>0</th>\n",
       "      <td>Maruti Swift Dzire VDI</td>\n",
       "      <td>2014</td>\n",
       "      <td>450000</td>\n",
       "      <td>145500</td>\n",
       "      <td>Diesel</td>\n",
       "      <td>Individual</td>\n",
       "      <td>Manual</td>\n",
       "      <td>First Owner</td>\n",
       "      <td>23.4 kmpl</td>\n",
       "      <td>1248 CC</td>\n",
       "      <td>74 bhp</td>\n",
       "      <td>190Nm@ 2000rpm</td>\n",
       "      <td>5.0</td>\n",
       "    </tr>\n",
       "    <tr>\n",
       "      <th>1</th>\n",
       "      <td>Skoda Rapid 1.5 TDI Ambition</td>\n",
       "      <td>2014</td>\n",
       "      <td>370000</td>\n",
       "      <td>120000</td>\n",
       "      <td>Diesel</td>\n",
       "      <td>Individual</td>\n",
       "      <td>Manual</td>\n",
       "      <td>Second Owner</td>\n",
       "      <td>21.14 kmpl</td>\n",
       "      <td>1498 CC</td>\n",
       "      <td>103.52 bhp</td>\n",
       "      <td>250Nm@ 1500-2500rpm</td>\n",
       "      <td>5.0</td>\n",
       "    </tr>\n",
       "    <tr>\n",
       "      <th>2</th>\n",
       "      <td>Honda City 2017-2020 EXi</td>\n",
       "      <td>2006</td>\n",
       "      <td>158000</td>\n",
       "      <td>140000</td>\n",
       "      <td>Petrol</td>\n",
       "      <td>Individual</td>\n",
       "      <td>Manual</td>\n",
       "      <td>Third Owner</td>\n",
       "      <td>17.7 kmpl</td>\n",
       "      <td>1497 CC</td>\n",
       "      <td>78 bhp</td>\n",
       "      <td>12.7@ 2,700(kgm@ rpm)</td>\n",
       "      <td>5.0</td>\n",
       "    </tr>\n",
       "    <tr>\n",
       "      <th>3</th>\n",
       "      <td>Hyundai i20 Sportz Diesel</td>\n",
       "      <td>2010</td>\n",
       "      <td>225000</td>\n",
       "      <td>127000</td>\n",
       "      <td>Diesel</td>\n",
       "      <td>Individual</td>\n",
       "      <td>Manual</td>\n",
       "      <td>First Owner</td>\n",
       "      <td>23.0 kmpl</td>\n",
       "      <td>1396 CC</td>\n",
       "      <td>90 bhp</td>\n",
       "      <td>22.4 kgm at 1750-2750rpm</td>\n",
       "      <td>5.0</td>\n",
       "    </tr>\n",
       "    <tr>\n",
       "      <th>4</th>\n",
       "      <td>Maruti Swift VXI BSIII</td>\n",
       "      <td>2007</td>\n",
       "      <td>130000</td>\n",
       "      <td>120000</td>\n",
       "      <td>Petrol</td>\n",
       "      <td>Individual</td>\n",
       "      <td>Manual</td>\n",
       "      <td>First Owner</td>\n",
       "      <td>16.1 kmpl</td>\n",
       "      <td>1298 CC</td>\n",
       "      <td>88.2 bhp</td>\n",
       "      <td>11.5@ 4,500(kgm@ rpm)</td>\n",
       "      <td>5.0</td>\n",
       "    </tr>\n",
       "  </tbody>\n",
       "</table>\n",
       "</div>"
      ],
      "text/plain": [
       "                           name  year  selling_price  km_driven    fuel  \\\n",
       "0        Maruti Swift Dzire VDI  2014         450000     145500  Diesel   \n",
       "1  Skoda Rapid 1.5 TDI Ambition  2014         370000     120000  Diesel   \n",
       "2      Honda City 2017-2020 EXi  2006         158000     140000  Petrol   \n",
       "3     Hyundai i20 Sportz Diesel  2010         225000     127000  Diesel   \n",
       "4        Maruti Swift VXI BSIII  2007         130000     120000  Petrol   \n",
       "\n",
       "  seller_type transmission         owner     mileage   engine   max_power  \\\n",
       "0  Individual       Manual   First Owner   23.4 kmpl  1248 CC      74 bhp   \n",
       "1  Individual       Manual  Second Owner  21.14 kmpl  1498 CC  103.52 bhp   \n",
       "2  Individual       Manual   Third Owner   17.7 kmpl  1497 CC      78 bhp   \n",
       "3  Individual       Manual   First Owner   23.0 kmpl  1396 CC      90 bhp   \n",
       "4  Individual       Manual   First Owner   16.1 kmpl  1298 CC    88.2 bhp   \n",
       "\n",
       "                     torque  seats  \n",
       "0            190Nm@ 2000rpm    5.0  \n",
       "1       250Nm@ 1500-2500rpm    5.0  \n",
       "2     12.7@ 2,700(kgm@ rpm)    5.0  \n",
       "3  22.4 kgm at 1750-2750rpm    5.0  \n",
       "4     11.5@ 4,500(kgm@ rpm)    5.0  "
      ]
     },
     "execution_count": 3,
     "metadata": {},
     "output_type": "execute_result"
    }
   ],
   "source": [
    "df.head()"
   ]
  },
  {
   "cell_type": "code",
   "execution_count": 4,
   "metadata": {},
   "outputs": [
    {
     "name": "stdout",
     "output_type": "stream",
     "text": [
      "<class 'pandas.core.frame.DataFrame'>\n",
      "RangeIndex: 8128 entries, 0 to 8127\n",
      "Data columns (total 13 columns):\n",
      " #   Column         Non-Null Count  Dtype  \n",
      "---  ------         --------------  -----  \n",
      " 0   name           8128 non-null   object \n",
      " 1   year           8128 non-null   int64  \n",
      " 2   selling_price  8128 non-null   int64  \n",
      " 3   km_driven      8128 non-null   int64  \n",
      " 4   fuel           8128 non-null   object \n",
      " 5   seller_type    8128 non-null   object \n",
      " 6   transmission   8128 non-null   object \n",
      " 7   owner          8128 non-null   object \n",
      " 8   mileage        7907 non-null   object \n",
      " 9   engine         7907 non-null   object \n",
      " 10  max_power      7913 non-null   object \n",
      " 11  torque         7906 non-null   object \n",
      " 12  seats          7907 non-null   float64\n",
      "dtypes: float64(1), int64(3), object(9)\n",
      "memory usage: 825.6+ KB\n"
     ]
    }
   ],
   "source": [
    "df.info()"
   ]
  },
  {
   "cell_type": "markdown",
   "metadata": {},
   "source": [
    "1.1 For the feature owner, map First owner to 1, ..., Test Drive Car to 5"
   ]
  },
  {
   "cell_type": "code",
   "execution_count": 5,
   "metadata": {},
   "outputs": [
    {
     "data": {
      "text/plain": [
       "array(['First Owner', 'Second Owner', 'Third Owner',\n",
       "       'Fourth & Above Owner', 'Test Drive Car'], dtype=object)"
      ]
     },
     "execution_count": 5,
     "metadata": {},
     "output_type": "execute_result"
    }
   ],
   "source": [
    "df[\"owner\"].unique()"
   ]
  },
  {
   "cell_type": "code",
   "execution_count": 6,
   "metadata": {},
   "outputs": [],
   "source": [
    "#rename owner lows\n",
    "df['owner'].replace({\n",
    "        'First Owner':1,\n",
    "        'Second Owner':2,\n",
    "        'Third Owner':3,\n",
    "        'Fourth & Above Owner':4,\n",
    "        'Test Drive Car':5\n",
    "    }, inplace=True)"
   ]
  },
  {
   "cell_type": "code",
   "execution_count": 7,
   "metadata": {},
   "outputs": [],
   "source": [
    "df['owner'] = df['owner'].astype(int)"
   ]
  },
  {
   "cell_type": "code",
   "execution_count": 8,
   "metadata": {},
   "outputs": [
    {
     "data": {
      "text/plain": [
       "array([1, 2, 3, 4, 5])"
      ]
     },
     "execution_count": 8,
     "metadata": {},
     "output_type": "execute_result"
    }
   ],
   "source": [
    "df[\"owner\"].unique()"
   ]
  },
  {
   "cell_type": "markdown",
   "metadata": {},
   "source": [
    "1.2 For the feature fuel, remove all rows with CNG and LPG because CNG and LPG use a different\n",
    "mileage system i.e., km/kg which is different from kmfeaturepl for Diesel and Petrol"
   ]
  },
  {
   "cell_type": "code",
   "execution_count": 9,
   "metadata": {},
   "outputs": [],
   "source": [
    "#CODE กระจ๋อย\n",
    "#newCNG = df.where(df[\"fuel\"] == 'CNG')\n",
    "#newCNG\n",
    "#selected_rows = newCNG[~newCNG['fuel'].isnull()]\n",
    "#selected_rows\n",
    "df_1= df[df['fuel'] != 'CNG']\n",
    "df_2= df_1[df_1['fuel'] != 'LPG']"
   ]
  },
  {
   "cell_type": "code",
   "execution_count": 10,
   "metadata": {},
   "outputs": [
    {
     "data": {
      "text/plain": [
       "array(['Diesel', 'Petrol'], dtype=object)"
      ]
     },
     "execution_count": 10,
     "metadata": {},
     "output_type": "execute_result"
    }
   ],
   "source": [
    "df_2[\"fuel\"].unique()"
   ]
  },
  {
   "cell_type": "markdown",
   "metadata": {},
   "source": [
    "1.3 For the feature mileage, remove “kmpl” and convert the column to numerical type (e.g., float).\n",
    "Hint: use df.mileage.str.split"
   ]
  },
  {
   "cell_type": "code",
   "execution_count": 11,
   "metadata": {},
   "outputs": [],
   "source": [
    "df_2['mileage'] = df_2['mileage'].str.split().str[0]\n",
    "df_2['mileage'] = pd.to_numeric(df_2['mileage'], errors='coerce')"
   ]
  },
  {
   "cell_type": "markdown",
   "metadata": {},
   "source": [
    "1.4 For the feature engine, remove “CC” and convert the column to numerical type (e.g., float)"
   ]
  },
  {
   "cell_type": "code",
   "execution_count": 12,
   "metadata": {},
   "outputs": [],
   "source": [
    "df_2['engine'] = df_2['engine'].str.split().str[0]\n",
    "df_2['engine'] = pd.to_numeric(df_2['engine'], errors='coerce')"
   ]
  },
  {
   "cell_type": "markdown",
   "metadata": {},
   "source": [
    "1.5 Do the same for max power"
   ]
  },
  {
   "cell_type": "code",
   "execution_count": 13,
   "metadata": {},
   "outputs": [],
   "source": [
    "df_2['max_power'] = df_2['max_power'].str.split().str[0]\n",
    "df_2['max_power'] = pd.to_numeric(df_2['max_power'], errors='coerce')"
   ]
  },
  {
   "cell_type": "markdown",
   "metadata": {},
   "source": [
    "1.6 For the feature brand, take only the first word and remove the rest"
   ]
  },
  {
   "cell_type": "code",
   "execution_count": 14,
   "metadata": {},
   "outputs": [
    {
     "data": {
      "text/html": [
       "<div>\n",
       "<style scoped>\n",
       "    .dataframe tbody tr th:only-of-type {\n",
       "        vertical-align: middle;\n",
       "    }\n",
       "\n",
       "    .dataframe tbody tr th {\n",
       "        vertical-align: top;\n",
       "    }\n",
       "\n",
       "    .dataframe thead th {\n",
       "        text-align: right;\n",
       "    }\n",
       "</style>\n",
       "<table border=\"1\" class=\"dataframe\">\n",
       "  <thead>\n",
       "    <tr style=\"text-align: right;\">\n",
       "      <th></th>\n",
       "      <th>name</th>\n",
       "      <th>year</th>\n",
       "      <th>selling_price</th>\n",
       "      <th>km_driven</th>\n",
       "      <th>fuel</th>\n",
       "      <th>seller_type</th>\n",
       "      <th>transmission</th>\n",
       "      <th>owner</th>\n",
       "      <th>mileage</th>\n",
       "      <th>engine</th>\n",
       "      <th>max_power</th>\n",
       "      <th>torque</th>\n",
       "      <th>seats</th>\n",
       "    </tr>\n",
       "  </thead>\n",
       "  <tbody>\n",
       "    <tr>\n",
       "      <th>0</th>\n",
       "      <td>Maruti</td>\n",
       "      <td>2014</td>\n",
       "      <td>450000</td>\n",
       "      <td>145500</td>\n",
       "      <td>Diesel</td>\n",
       "      <td>Individual</td>\n",
       "      <td>Manual</td>\n",
       "      <td>1</td>\n",
       "      <td>23.40</td>\n",
       "      <td>1248.0</td>\n",
       "      <td>74.00</td>\n",
       "      <td>190Nm@ 2000rpm</td>\n",
       "      <td>5.0</td>\n",
       "    </tr>\n",
       "    <tr>\n",
       "      <th>1</th>\n",
       "      <td>Skoda</td>\n",
       "      <td>2014</td>\n",
       "      <td>370000</td>\n",
       "      <td>120000</td>\n",
       "      <td>Diesel</td>\n",
       "      <td>Individual</td>\n",
       "      <td>Manual</td>\n",
       "      <td>2</td>\n",
       "      <td>21.14</td>\n",
       "      <td>1498.0</td>\n",
       "      <td>103.52</td>\n",
       "      <td>250Nm@ 1500-2500rpm</td>\n",
       "      <td>5.0</td>\n",
       "    </tr>\n",
       "    <tr>\n",
       "      <th>2</th>\n",
       "      <td>Honda</td>\n",
       "      <td>2006</td>\n",
       "      <td>158000</td>\n",
       "      <td>140000</td>\n",
       "      <td>Petrol</td>\n",
       "      <td>Individual</td>\n",
       "      <td>Manual</td>\n",
       "      <td>3</td>\n",
       "      <td>17.70</td>\n",
       "      <td>1497.0</td>\n",
       "      <td>78.00</td>\n",
       "      <td>12.7@ 2,700(kgm@ rpm)</td>\n",
       "      <td>5.0</td>\n",
       "    </tr>\n",
       "    <tr>\n",
       "      <th>3</th>\n",
       "      <td>Hyundai</td>\n",
       "      <td>2010</td>\n",
       "      <td>225000</td>\n",
       "      <td>127000</td>\n",
       "      <td>Diesel</td>\n",
       "      <td>Individual</td>\n",
       "      <td>Manual</td>\n",
       "      <td>1</td>\n",
       "      <td>23.00</td>\n",
       "      <td>1396.0</td>\n",
       "      <td>90.00</td>\n",
       "      <td>22.4 kgm at 1750-2750rpm</td>\n",
       "      <td>5.0</td>\n",
       "    </tr>\n",
       "    <tr>\n",
       "      <th>4</th>\n",
       "      <td>Maruti</td>\n",
       "      <td>2007</td>\n",
       "      <td>130000</td>\n",
       "      <td>120000</td>\n",
       "      <td>Petrol</td>\n",
       "      <td>Individual</td>\n",
       "      <td>Manual</td>\n",
       "      <td>1</td>\n",
       "      <td>16.10</td>\n",
       "      <td>1298.0</td>\n",
       "      <td>88.20</td>\n",
       "      <td>11.5@ 4,500(kgm@ rpm)</td>\n",
       "      <td>5.0</td>\n",
       "    </tr>\n",
       "  </tbody>\n",
       "</table>\n",
       "</div>"
      ],
      "text/plain": [
       "      name  year  selling_price  km_driven    fuel seller_type transmission  \\\n",
       "0   Maruti  2014         450000     145500  Diesel  Individual       Manual   \n",
       "1    Skoda  2014         370000     120000  Diesel  Individual       Manual   \n",
       "2    Honda  2006         158000     140000  Petrol  Individual       Manual   \n",
       "3  Hyundai  2010         225000     127000  Diesel  Individual       Manual   \n",
       "4   Maruti  2007         130000     120000  Petrol  Individual       Manual   \n",
       "\n",
       "   owner  mileage  engine  max_power                    torque  seats  \n",
       "0      1    23.40  1248.0      74.00            190Nm@ 2000rpm    5.0  \n",
       "1      2    21.14  1498.0     103.52       250Nm@ 1500-2500rpm    5.0  \n",
       "2      3    17.70  1497.0      78.00     12.7@ 2,700(kgm@ rpm)    5.0  \n",
       "3      1    23.00  1396.0      90.00  22.4 kgm at 1750-2750rpm    5.0  \n",
       "4      1    16.10  1298.0      88.20     11.5@ 4,500(kgm@ rpm)    5.0  "
      ]
     },
     "execution_count": 14,
     "metadata": {},
     "output_type": "execute_result"
    }
   ],
   "source": [
    "df_2['name'] = df_2['name'].str.split().str[0]\n",
    "df_2.head()"
   ]
  },
  {
   "cell_type": "markdown",
   "metadata": {},
   "source": [
    "1.7 Drop the feature torque, simply because Chaky’s company does not understand well about it"
   ]
  },
  {
   "cell_type": "code",
   "execution_count": 15,
   "metadata": {},
   "outputs": [
    {
     "data": {
      "text/html": [
       "<div>\n",
       "<style scoped>\n",
       "    .dataframe tbody tr th:only-of-type {\n",
       "        vertical-align: middle;\n",
       "    }\n",
       "\n",
       "    .dataframe tbody tr th {\n",
       "        vertical-align: top;\n",
       "    }\n",
       "\n",
       "    .dataframe thead th {\n",
       "        text-align: right;\n",
       "    }\n",
       "</style>\n",
       "<table border=\"1\" class=\"dataframe\">\n",
       "  <thead>\n",
       "    <tr style=\"text-align: right;\">\n",
       "      <th></th>\n",
       "      <th>name</th>\n",
       "      <th>year</th>\n",
       "      <th>selling_price</th>\n",
       "      <th>km_driven</th>\n",
       "      <th>fuel</th>\n",
       "      <th>seller_type</th>\n",
       "      <th>transmission</th>\n",
       "      <th>owner</th>\n",
       "      <th>mileage</th>\n",
       "      <th>engine</th>\n",
       "      <th>max_power</th>\n",
       "      <th>seats</th>\n",
       "    </tr>\n",
       "  </thead>\n",
       "  <tbody>\n",
       "    <tr>\n",
       "      <th>0</th>\n",
       "      <td>Maruti</td>\n",
       "      <td>2014</td>\n",
       "      <td>450000</td>\n",
       "      <td>145500</td>\n",
       "      <td>Diesel</td>\n",
       "      <td>Individual</td>\n",
       "      <td>Manual</td>\n",
       "      <td>1</td>\n",
       "      <td>23.40</td>\n",
       "      <td>1248.0</td>\n",
       "      <td>74.00</td>\n",
       "      <td>5.0</td>\n",
       "    </tr>\n",
       "    <tr>\n",
       "      <th>1</th>\n",
       "      <td>Skoda</td>\n",
       "      <td>2014</td>\n",
       "      <td>370000</td>\n",
       "      <td>120000</td>\n",
       "      <td>Diesel</td>\n",
       "      <td>Individual</td>\n",
       "      <td>Manual</td>\n",
       "      <td>2</td>\n",
       "      <td>21.14</td>\n",
       "      <td>1498.0</td>\n",
       "      <td>103.52</td>\n",
       "      <td>5.0</td>\n",
       "    </tr>\n",
       "    <tr>\n",
       "      <th>2</th>\n",
       "      <td>Honda</td>\n",
       "      <td>2006</td>\n",
       "      <td>158000</td>\n",
       "      <td>140000</td>\n",
       "      <td>Petrol</td>\n",
       "      <td>Individual</td>\n",
       "      <td>Manual</td>\n",
       "      <td>3</td>\n",
       "      <td>17.70</td>\n",
       "      <td>1497.0</td>\n",
       "      <td>78.00</td>\n",
       "      <td>5.0</td>\n",
       "    </tr>\n",
       "    <tr>\n",
       "      <th>3</th>\n",
       "      <td>Hyundai</td>\n",
       "      <td>2010</td>\n",
       "      <td>225000</td>\n",
       "      <td>127000</td>\n",
       "      <td>Diesel</td>\n",
       "      <td>Individual</td>\n",
       "      <td>Manual</td>\n",
       "      <td>1</td>\n",
       "      <td>23.00</td>\n",
       "      <td>1396.0</td>\n",
       "      <td>90.00</td>\n",
       "      <td>5.0</td>\n",
       "    </tr>\n",
       "    <tr>\n",
       "      <th>4</th>\n",
       "      <td>Maruti</td>\n",
       "      <td>2007</td>\n",
       "      <td>130000</td>\n",
       "      <td>120000</td>\n",
       "      <td>Petrol</td>\n",
       "      <td>Individual</td>\n",
       "      <td>Manual</td>\n",
       "      <td>1</td>\n",
       "      <td>16.10</td>\n",
       "      <td>1298.0</td>\n",
       "      <td>88.20</td>\n",
       "      <td>5.0</td>\n",
       "    </tr>\n",
       "  </tbody>\n",
       "</table>\n",
       "</div>"
      ],
      "text/plain": [
       "      name  year  selling_price  km_driven    fuel seller_type transmission  \\\n",
       "0   Maruti  2014         450000     145500  Diesel  Individual       Manual   \n",
       "1    Skoda  2014         370000     120000  Diesel  Individual       Manual   \n",
       "2    Honda  2006         158000     140000  Petrol  Individual       Manual   \n",
       "3  Hyundai  2010         225000     127000  Diesel  Individual       Manual   \n",
       "4   Maruti  2007         130000     120000  Petrol  Individual       Manual   \n",
       "\n",
       "   owner  mileage  engine  max_power  seats  \n",
       "0      1    23.40  1248.0      74.00    5.0  \n",
       "1      2    21.14  1498.0     103.52    5.0  \n",
       "2      3    17.70  1497.0      78.00    5.0  \n",
       "3      1    23.00  1396.0      90.00    5.0  \n",
       "4      1    16.10  1298.0      88.20    5.0  "
      ]
     },
     "execution_count": 15,
     "metadata": {},
     "output_type": "execute_result"
    }
   ],
   "source": [
    "#df.drop(columns=['torque'])\n",
    "df_2 = df_2.drop('torque', axis=1)\n",
    "df_2.head()"
   ]
  },
  {
   "cell_type": "code",
   "execution_count": 16,
   "metadata": {},
   "outputs": [
    {
     "name": "stdout",
     "output_type": "stream",
     "text": [
      "<class 'pandas.core.frame.DataFrame'>\n",
      "Int64Index: 8033 entries, 0 to 8127\n",
      "Data columns (total 12 columns):\n",
      " #   Column         Non-Null Count  Dtype  \n",
      "---  ------         --------------  -----  \n",
      " 0   name           8033 non-null   object \n",
      " 1   year           8033 non-null   int64  \n",
      " 2   selling_price  8033 non-null   int64  \n",
      " 3   km_driven      8033 non-null   int64  \n",
      " 4   fuel           8033 non-null   object \n",
      " 5   seller_type    8033 non-null   object \n",
      " 6   transmission   8033 non-null   object \n",
      " 7   owner          8033 non-null   int32  \n",
      " 8   mileage        7819 non-null   float64\n",
      " 9   engine         7819 non-null   float64\n",
      " 10  max_power      7825 non-null   float64\n",
      " 11  seats          7819 non-null   float64\n",
      "dtypes: float64(4), int32(1), int64(3), object(4)\n",
      "memory usage: 784.5+ KB\n"
     ]
    }
   ],
   "source": [
    "df_2.info()"
   ]
  },
  {
   "cell_type": "markdown",
   "metadata": {},
   "source": [
    "1.8 You will found out that Test Drive Cars are ridiculously expensive. Since we do not want to\n",
    "involve this, we will simply delete all samples related to it"
   ]
  },
  {
   "cell_type": "code",
   "execution_count": 17,
   "metadata": {},
   "outputs": [
    {
     "data": {
      "text/html": [
       "<div>\n",
       "<style scoped>\n",
       "    .dataframe tbody tr th:only-of-type {\n",
       "        vertical-align: middle;\n",
       "    }\n",
       "\n",
       "    .dataframe tbody tr th {\n",
       "        vertical-align: top;\n",
       "    }\n",
       "\n",
       "    .dataframe thead th {\n",
       "        text-align: right;\n",
       "    }\n",
       "</style>\n",
       "<table border=\"1\" class=\"dataframe\">\n",
       "  <thead>\n",
       "    <tr style=\"text-align: right;\">\n",
       "      <th></th>\n",
       "      <th>name</th>\n",
       "      <th>year</th>\n",
       "      <th>selling_price</th>\n",
       "      <th>km_driven</th>\n",
       "      <th>fuel</th>\n",
       "      <th>seller_type</th>\n",
       "      <th>transmission</th>\n",
       "      <th>owner</th>\n",
       "      <th>mileage</th>\n",
       "      <th>engine</th>\n",
       "      <th>max_power</th>\n",
       "      <th>seats</th>\n",
       "    </tr>\n",
       "  </thead>\n",
       "  <tbody>\n",
       "    <tr>\n",
       "      <th>4383</th>\n",
       "      <td>Volkswagen</td>\n",
       "      <td>2019.0</td>\n",
       "      <td>1350000.0</td>\n",
       "      <td>5400.0</td>\n",
       "      <td>Diesel</td>\n",
       "      <td>Dealer</td>\n",
       "      <td>Manual</td>\n",
       "      <td>5.0</td>\n",
       "      <td>22.27</td>\n",
       "      <td>1498.0</td>\n",
       "      <td>108.60</td>\n",
       "      <td>5.0</td>\n",
       "    </tr>\n",
       "    <tr>\n",
       "      <th>4950</th>\n",
       "      <td>Audi</td>\n",
       "      <td>2019.0</td>\n",
       "      <td>6223000.0</td>\n",
       "      <td>7800.0</td>\n",
       "      <td>Petrol</td>\n",
       "      <td>Dealer</td>\n",
       "      <td>Automatic</td>\n",
       "      <td>5.0</td>\n",
       "      <td>15.26</td>\n",
       "      <td>1798.0</td>\n",
       "      <td>187.74</td>\n",
       "      <td>5.0</td>\n",
       "    </tr>\n",
       "    <tr>\n",
       "      <th>4951</th>\n",
       "      <td>Audi</td>\n",
       "      <td>2019.0</td>\n",
       "      <td>5923000.0</td>\n",
       "      <td>11500.0</td>\n",
       "      <td>Petrol</td>\n",
       "      <td>Dealer</td>\n",
       "      <td>Automatic</td>\n",
       "      <td>5.0</td>\n",
       "      <td>15.26</td>\n",
       "      <td>1798.0</td>\n",
       "      <td>187.74</td>\n",
       "      <td>5.0</td>\n",
       "    </tr>\n",
       "    <tr>\n",
       "      <th>4952</th>\n",
       "      <td>Audi</td>\n",
       "      <td>2019.0</td>\n",
       "      <td>6523000.0</td>\n",
       "      <td>23600.0</td>\n",
       "      <td>Petrol</td>\n",
       "      <td>Dealer</td>\n",
       "      <td>Automatic</td>\n",
       "      <td>5.0</td>\n",
       "      <td>15.26</td>\n",
       "      <td>1798.0</td>\n",
       "      <td>187.74</td>\n",
       "      <td>5.0</td>\n",
       "    </tr>\n",
       "    <tr>\n",
       "      <th>6220</th>\n",
       "      <td>Honda</td>\n",
       "      <td>2019.0</td>\n",
       "      <td>2000000.0</td>\n",
       "      <td>24857.0</td>\n",
       "      <td>Petrol</td>\n",
       "      <td>Dealer</td>\n",
       "      <td>Automatic</td>\n",
       "      <td>5.0</td>\n",
       "      <td>16.50</td>\n",
       "      <td>1799.0</td>\n",
       "      <td>139.46</td>\n",
       "      <td>5.0</td>\n",
       "    </tr>\n",
       "  </tbody>\n",
       "</table>\n",
       "</div>"
      ],
      "text/plain": [
       "            name    year  selling_price  km_driven    fuel seller_type  \\\n",
       "4383  Volkswagen  2019.0      1350000.0     5400.0  Diesel      Dealer   \n",
       "4950        Audi  2019.0      6223000.0     7800.0  Petrol      Dealer   \n",
       "4951        Audi  2019.0      5923000.0    11500.0  Petrol      Dealer   \n",
       "4952        Audi  2019.0      6523000.0    23600.0  Petrol      Dealer   \n",
       "6220       Honda  2019.0      2000000.0    24857.0  Petrol      Dealer   \n",
       "\n",
       "     transmission  owner  mileage  engine  max_power  seats  \n",
       "4383       Manual    5.0    22.27  1498.0     108.60    5.0  \n",
       "4950    Automatic    5.0    15.26  1798.0     187.74    5.0  \n",
       "4951    Automatic    5.0    15.26  1798.0     187.74    5.0  \n",
       "4952    Automatic    5.0    15.26  1798.0     187.74    5.0  \n",
       "6220    Automatic    5.0    16.50  1799.0     139.46    5.0  "
      ]
     },
     "execution_count": 17,
     "metadata": {},
     "output_type": "execute_result"
    }
   ],
   "source": [
    "newCar = df_2.where(df[\"owner\"] == 5)\n",
    "selected_rows = newCar[~newCar['owner'].isnull()]\n",
    "selected_rows"
   ]
  },
  {
   "cell_type": "code",
   "execution_count": 18,
   "metadata": {},
   "outputs": [],
   "source": [
    "df_3= df_2[df_2['owner'] != '5']"
   ]
  },
  {
   "cell_type": "markdown",
   "metadata": {},
   "source": [
    "1.9 Since selling price is a big number, it can cause your prediction to be very unstable. One trick\n",
    "is to first transform the label using log transform, i.e.,"
   ]
  },
  {
   "cell_type": "code",
   "execution_count": 19,
   "metadata": {},
   "outputs": [
    {
     "data": {
      "text/plain": [
       "0       13.017003\n",
       "1       12.821258\n",
       "2       11.970350\n",
       "3       12.323856\n",
       "4       11.775290\n",
       "          ...    \n",
       "8123    12.676076\n",
       "8124    11.813030\n",
       "8125    12.853176\n",
       "8126    12.577636\n",
       "8127    12.577636\n",
       "Name: selling_price, Length: 8033, dtype: float64"
      ]
     },
     "execution_count": 19,
     "metadata": {},
     "output_type": "execute_result"
    }
   ],
   "source": [
    "y = np.log(df_3['selling_price'])\n",
    "y"
   ]
  },
  {
   "cell_type": "markdown",
   "metadata": {},
   "source": [
    "2.0 During inference/testing, you have to transform your predicted y backed before comparing with y\n",
    "test, i.e.,"
   ]
  },
  {
   "cell_type": "code",
   "execution_count": 20,
   "metadata": {},
   "outputs": [
    {
     "data": {
      "text/plain": [
       "0       450000.0\n",
       "1       370000.0\n",
       "2       158000.0\n",
       "3       225000.0\n",
       "4       130000.0\n",
       "          ...   \n",
       "8123    320000.0\n",
       "8124    135000.0\n",
       "8125    382000.0\n",
       "8126    290000.0\n",
       "8127    290000.0\n",
       "Name: selling_price, Length: 8033, dtype: float64"
      ]
     },
     "execution_count": 20,
     "metadata": {},
     "output_type": "execute_result"
    }
   ],
   "source": [
    "pred_y = np.exp(y)\n",
    "pred_y"
   ]
  },
  {
   "cell_type": "code",
   "execution_count": 21,
   "metadata": {},
   "outputs": [],
   "source": [
    "df_3['selling_price'] = np.log(df_3['selling_price'])"
   ]
  },
  {
   "cell_type": "code",
   "execution_count": 22,
   "metadata": {},
   "outputs": [
    {
     "data": {
      "text/html": [
       "<div>\n",
       "<style scoped>\n",
       "    .dataframe tbody tr th:only-of-type {\n",
       "        vertical-align: middle;\n",
       "    }\n",
       "\n",
       "    .dataframe tbody tr th {\n",
       "        vertical-align: top;\n",
       "    }\n",
       "\n",
       "    .dataframe thead th {\n",
       "        text-align: right;\n",
       "    }\n",
       "</style>\n",
       "<table border=\"1\" class=\"dataframe\">\n",
       "  <thead>\n",
       "    <tr style=\"text-align: right;\">\n",
       "      <th></th>\n",
       "      <th>name</th>\n",
       "      <th>year</th>\n",
       "      <th>selling_price</th>\n",
       "      <th>km_driven</th>\n",
       "      <th>fuel</th>\n",
       "      <th>seller_type</th>\n",
       "      <th>transmission</th>\n",
       "      <th>owner</th>\n",
       "      <th>mileage</th>\n",
       "      <th>engine</th>\n",
       "      <th>max_power</th>\n",
       "      <th>seats</th>\n",
       "    </tr>\n",
       "  </thead>\n",
       "  <tbody>\n",
       "    <tr>\n",
       "      <th>0</th>\n",
       "      <td>Maruti</td>\n",
       "      <td>2014</td>\n",
       "      <td>13.017003</td>\n",
       "      <td>145500</td>\n",
       "      <td>Diesel</td>\n",
       "      <td>Individual</td>\n",
       "      <td>Manual</td>\n",
       "      <td>1</td>\n",
       "      <td>23.40</td>\n",
       "      <td>1248.0</td>\n",
       "      <td>74.00</td>\n",
       "      <td>5.0</td>\n",
       "    </tr>\n",
       "    <tr>\n",
       "      <th>1</th>\n",
       "      <td>Skoda</td>\n",
       "      <td>2014</td>\n",
       "      <td>12.821258</td>\n",
       "      <td>120000</td>\n",
       "      <td>Diesel</td>\n",
       "      <td>Individual</td>\n",
       "      <td>Manual</td>\n",
       "      <td>2</td>\n",
       "      <td>21.14</td>\n",
       "      <td>1498.0</td>\n",
       "      <td>103.52</td>\n",
       "      <td>5.0</td>\n",
       "    </tr>\n",
       "    <tr>\n",
       "      <th>2</th>\n",
       "      <td>Honda</td>\n",
       "      <td>2006</td>\n",
       "      <td>11.970350</td>\n",
       "      <td>140000</td>\n",
       "      <td>Petrol</td>\n",
       "      <td>Individual</td>\n",
       "      <td>Manual</td>\n",
       "      <td>3</td>\n",
       "      <td>17.70</td>\n",
       "      <td>1497.0</td>\n",
       "      <td>78.00</td>\n",
       "      <td>5.0</td>\n",
       "    </tr>\n",
       "    <tr>\n",
       "      <th>3</th>\n",
       "      <td>Hyundai</td>\n",
       "      <td>2010</td>\n",
       "      <td>12.323856</td>\n",
       "      <td>127000</td>\n",
       "      <td>Diesel</td>\n",
       "      <td>Individual</td>\n",
       "      <td>Manual</td>\n",
       "      <td>1</td>\n",
       "      <td>23.00</td>\n",
       "      <td>1396.0</td>\n",
       "      <td>90.00</td>\n",
       "      <td>5.0</td>\n",
       "    </tr>\n",
       "    <tr>\n",
       "      <th>4</th>\n",
       "      <td>Maruti</td>\n",
       "      <td>2007</td>\n",
       "      <td>11.775290</td>\n",
       "      <td>120000</td>\n",
       "      <td>Petrol</td>\n",
       "      <td>Individual</td>\n",
       "      <td>Manual</td>\n",
       "      <td>1</td>\n",
       "      <td>16.10</td>\n",
       "      <td>1298.0</td>\n",
       "      <td>88.20</td>\n",
       "      <td>5.0</td>\n",
       "    </tr>\n",
       "    <tr>\n",
       "      <th>...</th>\n",
       "      <td>...</td>\n",
       "      <td>...</td>\n",
       "      <td>...</td>\n",
       "      <td>...</td>\n",
       "      <td>...</td>\n",
       "      <td>...</td>\n",
       "      <td>...</td>\n",
       "      <td>...</td>\n",
       "      <td>...</td>\n",
       "      <td>...</td>\n",
       "      <td>...</td>\n",
       "      <td>...</td>\n",
       "    </tr>\n",
       "    <tr>\n",
       "      <th>8123</th>\n",
       "      <td>Hyundai</td>\n",
       "      <td>2013</td>\n",
       "      <td>12.676076</td>\n",
       "      <td>110000</td>\n",
       "      <td>Petrol</td>\n",
       "      <td>Individual</td>\n",
       "      <td>Manual</td>\n",
       "      <td>1</td>\n",
       "      <td>18.50</td>\n",
       "      <td>1197.0</td>\n",
       "      <td>82.85</td>\n",
       "      <td>5.0</td>\n",
       "    </tr>\n",
       "    <tr>\n",
       "      <th>8124</th>\n",
       "      <td>Hyundai</td>\n",
       "      <td>2007</td>\n",
       "      <td>11.813030</td>\n",
       "      <td>119000</td>\n",
       "      <td>Diesel</td>\n",
       "      <td>Individual</td>\n",
       "      <td>Manual</td>\n",
       "      <td>4</td>\n",
       "      <td>16.80</td>\n",
       "      <td>1493.0</td>\n",
       "      <td>110.00</td>\n",
       "      <td>5.0</td>\n",
       "    </tr>\n",
       "    <tr>\n",
       "      <th>8125</th>\n",
       "      <td>Maruti</td>\n",
       "      <td>2009</td>\n",
       "      <td>12.853176</td>\n",
       "      <td>120000</td>\n",
       "      <td>Diesel</td>\n",
       "      <td>Individual</td>\n",
       "      <td>Manual</td>\n",
       "      <td>1</td>\n",
       "      <td>19.30</td>\n",
       "      <td>1248.0</td>\n",
       "      <td>73.90</td>\n",
       "      <td>5.0</td>\n",
       "    </tr>\n",
       "    <tr>\n",
       "      <th>8126</th>\n",
       "      <td>Tata</td>\n",
       "      <td>2013</td>\n",
       "      <td>12.577636</td>\n",
       "      <td>25000</td>\n",
       "      <td>Diesel</td>\n",
       "      <td>Individual</td>\n",
       "      <td>Manual</td>\n",
       "      <td>1</td>\n",
       "      <td>23.57</td>\n",
       "      <td>1396.0</td>\n",
       "      <td>70.00</td>\n",
       "      <td>5.0</td>\n",
       "    </tr>\n",
       "    <tr>\n",
       "      <th>8127</th>\n",
       "      <td>Tata</td>\n",
       "      <td>2013</td>\n",
       "      <td>12.577636</td>\n",
       "      <td>25000</td>\n",
       "      <td>Diesel</td>\n",
       "      <td>Individual</td>\n",
       "      <td>Manual</td>\n",
       "      <td>1</td>\n",
       "      <td>23.57</td>\n",
       "      <td>1396.0</td>\n",
       "      <td>70.00</td>\n",
       "      <td>5.0</td>\n",
       "    </tr>\n",
       "  </tbody>\n",
       "</table>\n",
       "<p>8033 rows × 12 columns</p>\n",
       "</div>"
      ],
      "text/plain": [
       "         name  year  selling_price  km_driven    fuel seller_type  \\\n",
       "0      Maruti  2014      13.017003     145500  Diesel  Individual   \n",
       "1       Skoda  2014      12.821258     120000  Diesel  Individual   \n",
       "2       Honda  2006      11.970350     140000  Petrol  Individual   \n",
       "3     Hyundai  2010      12.323856     127000  Diesel  Individual   \n",
       "4      Maruti  2007      11.775290     120000  Petrol  Individual   \n",
       "...       ...   ...            ...        ...     ...         ...   \n",
       "8123  Hyundai  2013      12.676076     110000  Petrol  Individual   \n",
       "8124  Hyundai  2007      11.813030     119000  Diesel  Individual   \n",
       "8125   Maruti  2009      12.853176     120000  Diesel  Individual   \n",
       "8126     Tata  2013      12.577636      25000  Diesel  Individual   \n",
       "8127     Tata  2013      12.577636      25000  Diesel  Individual   \n",
       "\n",
       "     transmission  owner  mileage  engine  max_power  seats  \n",
       "0          Manual      1    23.40  1248.0      74.00    5.0  \n",
       "1          Manual      2    21.14  1498.0     103.52    5.0  \n",
       "2          Manual      3    17.70  1497.0      78.00    5.0  \n",
       "3          Manual      1    23.00  1396.0      90.00    5.0  \n",
       "4          Manual      1    16.10  1298.0      88.20    5.0  \n",
       "...           ...    ...      ...     ...        ...    ...  \n",
       "8123       Manual      1    18.50  1197.0      82.85    5.0  \n",
       "8124       Manual      4    16.80  1493.0     110.00    5.0  \n",
       "8125       Manual      1    19.30  1248.0      73.90    5.0  \n",
       "8126       Manual      1    23.57  1396.0      70.00    5.0  \n",
       "8127       Manual      1    23.57  1396.0      70.00    5.0  \n",
       "\n",
       "[8033 rows x 12 columns]"
      ]
     },
     "execution_count": 22,
     "metadata": {},
     "output_type": "execute_result"
    }
   ],
   "source": [
    "df_3"
   ]
  },
  {
   "cell_type": "markdown",
   "metadata": {},
   "source": [
    "### A1: Task 2"
   ]
  },
  {
   "cell_type": "markdown",
   "metadata": {},
   "source": [
    "**Task 2**. Report - In the end of the notebook, please write a 2-3 paragraphs summary deeply discussing\n",
    "and analysing the results. Possible points of discussion:"
   ]
  },
  {
   "cell_type": "code",
   "execution_count": 23,
   "metadata": {},
   "outputs": [
    {
     "data": {
      "text/plain": [
       "<seaborn.axisgrid.FacetGrid at 0x1afa7136f10>"
      ]
     },
     "execution_count": 23,
     "metadata": {},
     "output_type": "execute_result"
    },
    {
     "data": {
      "image/png": "[encoded data removed]",
      "text/plain": [
       "<Figure size 500x500 with 1 Axes>"
      ]
     },
     "metadata": {},
     "output_type": "display_data"
    }
   ],
   "source": [
    "sns.displot(data = df_3, x = 'selling_price')"
   ]
  },
  {
   "cell_type": "code",
   "execution_count": 24,
   "metadata": {},
   "outputs": [],
   "source": [
    "from sklearn.preprocessing import LabelEncoder\n",
    "\n",
    "le = LabelEncoder()\n",
    "df_3[\"seller_type\"] = le.fit_transform(df_3[\"seller_type\"])\n",
    "#df[\"selling_price\"].unique()\n",
    "#le.classes_"
   ]
  },
  {
   "cell_type": "code",
   "execution_count": 25,
   "metadata": {},
   "outputs": [
    {
     "data": {
      "text/plain": [
       "array([0, 1, 2])"
      ]
     },
     "execution_count": 25,
     "metadata": {},
     "output_type": "execute_result"
    }
   ],
   "source": [
    "le.classes_\n",
    "le.transform(['Dealer', 'Individual', 'Trustmark Dealer'])"
   ]
  },
  {
   "cell_type": "code",
   "execution_count": 26,
   "metadata": {},
   "outputs": [
    {
     "name": "stdout",
     "output_type": "stream",
     "text": [
      "<class 'pandas.core.frame.DataFrame'>\n",
      "Int64Index: 8033 entries, 0 to 8127\n",
      "Data columns (total 12 columns):\n",
      " #   Column         Non-Null Count  Dtype  \n",
      "---  ------         --------------  -----  \n",
      " 0   name           8033 non-null   object \n",
      " 1   year           8033 non-null   int64  \n",
      " 2   selling_price  8033 non-null   float64\n",
      " 3   km_driven      8033 non-null   int64  \n",
      " 4   fuel           8033 non-null   object \n",
      " 5   seller_type    8033 non-null   int32  \n",
      " 6   transmission   8033 non-null   object \n",
      " 7   owner          8033 non-null   int32  \n",
      " 8   mileage        7819 non-null   float64\n",
      " 9   engine         7819 non-null   float64\n",
      " 10  max_power      7825 non-null   float64\n",
      " 11  seats          7819 non-null   float64\n",
      "dtypes: float64(5), int32(2), int64(2), object(3)\n",
      "memory usage: 1011.1+ KB\n"
     ]
    }
   ],
   "source": [
    "df_3.info()"
   ]
  },
  {
   "cell_type": "code",
   "execution_count": 27,
   "metadata": {},
   "outputs": [],
   "source": [
    "#ถ้าคิดว่าไม่ใช้ให้ Drop เลย\n",
    "df_3 = df_3.drop(['fuel', 'transmission','owner','name'],axis=1)"
   ]
  },
  {
   "cell_type": "code",
   "execution_count": 28,
   "metadata": {},
   "outputs": [
    {
     "data": {
      "text/plain": [
       "<Axes: >"
      ]
     },
     "execution_count": 28,
     "metadata": {},
     "output_type": "execute_result"
    },
    {
     "data": {
      "image/png": "[encoded data removed]",
      "text/plain": [
       "<Figure size 1500x800 with 2 Axes>"
      ]
     },
     "metadata": {},
     "output_type": "display_data"
    }
   ],
   "source": [
    "plt.figure(figsize = (15,8))\n",
    "sns.heatmap(df_3.corr(), annot=True, cmap=\"coolwarm\") "
   ]
  },
  {
   "cell_type": "markdown",
   "metadata": {},
   "source": [
    "2.1 Which features are important? Which are not? Why?"
   ]
  },
  {
   "cell_type": "markdown",
   "metadata": {},
   "source": [
    "ANS: The feature are important are max_power, engine and years. \n",
    "\n",
    "you can check the the best feature form ppscore table in below: hight score means very important feature more than low score."
   ]
  },
  {
   "cell_type": "code",
   "execution_count": 29,
   "metadata": {},
   "outputs": [
    {
     "data": {
      "text/plain": [
       "<Axes: xlabel='x', ylabel='y'>"
      ]
     },
     "execution_count": 29,
     "metadata": {},
     "output_type": "execute_result"
    },
    {
     "data": {
      "image/png": "[encoded data removed]",
      "text/plain": [
       "<Figure size 1500x800 with 2 Axes>"
      ]
     },
     "metadata": {},
     "output_type": "display_data"
    }
   ],
   "source": [
    "import ppscore as pps\n",
    "\n",
    "# before using pps, let's drop country and year\n",
    "dfcopy = df_3.copy()\n",
    "#dfcopy.drop(['country', 'year'], axis='columns', inplace=True)\n",
    "\n",
    "#this needs some minor preprocessing because seaborn.heatmap unfortunately does not accept tidy data\n",
    "matrix_df = pps.matrix(dfcopy)[['x', 'y', 'ppscore']].pivot(columns='x', index='y', values='ppscore')\n",
    "\n",
    "#plot\n",
    "plt.figure(figsize = (15,8))\n",
    "sns.heatmap(matrix_df, vmin=0, vmax=1, cmap=\"Blues\", linewidths=0.5, annot=True)"
   ]
  },
  {
   "cell_type": "markdown",
   "metadata": {},
   "source": [
    "2.2 Which algorithm performs well? Which does not? Why? (here, you haven’t learned about any\n",
    "algorithms yet, but you can search online a bit and start building an intuition)\n",
    "\n",
    "ANS: I try to compare 4 model (algorithm_names = [\"Linear Regression\", \"SVR\", \"KNeighbors Regressor\", \"Decision-Tree Regressor\", \"Random-Forest Regressor\"]) \n",
    "Algorithm is perform well is  Random-Forest Regressor Because this model have the best Mean Score: -0.05946266469462726"
   ]
  },
  {
   "cell_type": "code",
   "execution_count": 30,
   "metadata": {},
   "outputs": [],
   "source": [
    "from sklearn.model_selection import train_test_split\n",
    "#x is our strong features\n",
    "X = df_3[['max_power', 'engine', 'year']]\n",
    "\n",
    "#y is simply the life expectancy col\n",
    "y = df_3[\"selling_price\"]\n",
    "\n",
    "X_train, X_test, y_train, y_test = train_test_split(X, y, test_size = 0.3, random_state = 42)"
   ]
  },
  {
   "cell_type": "code",
   "execution_count": 31,
   "metadata": {},
   "outputs": [
    {
     "data": {
      "text/plain": [
       "max_power    148\n",
       "engine       153\n",
       "year           0\n",
       "dtype: int64"
      ]
     },
     "execution_count": 31,
     "metadata": {},
     "output_type": "execute_result"
    }
   ],
   "source": [
    "#check all the lost number\n",
    "X_train[['max_power', 'engine', 'year']].isna().sum()"
   ]
  },
  {
   "cell_type": "code",
   "execution_count": 32,
   "metadata": {},
   "outputs": [
    {
     "data": {
      "text/plain": [
       "max_power    60\n",
       "engine       61\n",
       "year          0\n",
       "dtype: int64"
      ]
     },
     "execution_count": 32,
     "metadata": {},
     "output_type": "execute_result"
    }
   ],
   "source": [
    "X_test[['max_power', 'engine', 'year']].isna().sum()"
   ]
  },
  {
   "cell_type": "code",
   "execution_count": 33,
   "metadata": {},
   "outputs": [
    {
     "data": {
      "text/plain": [
       "0"
      ]
     },
     "execution_count": 33,
     "metadata": {},
     "output_type": "execute_result"
    }
   ],
   "source": [
    "y_train.isna().sum()"
   ]
  },
  {
   "cell_type": "code",
   "execution_count": 34,
   "metadata": {},
   "outputs": [
    {
     "data": {
      "text/plain": [
       "1495     62.10\n",
       "5818    100.00\n",
       "1281     90.00\n",
       "1421     90.00\n",
       "7173     81.83\n",
       "         ...  \n",
       "5289     81.80\n",
       "5456       NaN\n",
       "865      88.76\n",
       "7696     46.30\n",
       "7361       NaN\n",
       "Name: max_power, Length: 5623, dtype: float64"
      ]
     },
     "execution_count": 34,
     "metadata": {},
     "output_type": "execute_result"
    }
   ],
   "source": [
    "X_train['max_power']"
   ]
  },
  {
   "cell_type": "code",
   "execution_count": 35,
   "metadata": {},
   "outputs": [
    {
     "name": "stdout",
     "output_type": "stream",
     "text": [
      "Maximum Count: 267\n"
     ]
    },
    {
     "data": {
      "text/plain": [
       "74.00     267\n",
       "81.80     156\n",
       "88.50     141\n",
       "67.00     121\n",
       "88.70     113\n",
       "         ... \n",
       "68.40       1\n",
       "174.57      1\n",
       "139.46      1\n",
       "86.79       1\n",
       "265.00      1\n",
       "Name: max_power, Length: 289, dtype: int64"
      ]
     },
     "execution_count": 35,
     "metadata": {},
     "output_type": "execute_result"
    }
   ],
   "source": [
    "import pandas as pd\n",
    "\n",
    "\n",
    "# Calculate the value counts\n",
    "value_counts = X_train['max_power'].value_counts()\n",
    "\n",
    "# Get the maximum count\n",
    "max_count = value_counts.max()\n",
    "\n",
    "print(\"Maximum Count:\", max_count)\n",
    "value_counts"
   ]
  },
  {
   "cell_type": "code",
   "execution_count": 36,
   "metadata": {},
   "outputs": [
    {
     "name": "stdout",
     "output_type": "stream",
     "text": [
      "82.0\n",
      "1248.0\n"
     ]
    },
    {
     "data": {
      "text/plain": [
       "0    2017\n",
       "Name: year, dtype: int64"
      ]
     },
     "execution_count": 36,
     "metadata": {},
     "output_type": "execute_result"
    }
   ],
   "source": [
    "print(X_train['max_power'].median())\n",
    "print(X_train['engine'].median())\n",
    "X_train['year'].mode()"
   ]
  },
  {
   "cell_type": "code",
   "execution_count": 37,
   "metadata": {},
   "outputs": [],
   "source": [
    "#let's fill the training set first!\n",
    "X_train['max_power'].fillna(X_train['max_power'].mean(), inplace=True)\n",
    "X_train['engine'].fillna(X_train['engine'].median(), inplace=True)\n",
    "X_train['year'].fillna(X_train['year'].median(), inplace=True)"
   ]
  },
  {
   "cell_type": "code",
   "execution_count": 38,
   "metadata": {},
   "outputs": [
    {
     "data": {
      "text/html": [
       "<div>\n",
       "<style scoped>\n",
       "    .dataframe tbody tr th:only-of-type {\n",
       "        vertical-align: middle;\n",
       "    }\n",
       "\n",
       "    .dataframe tbody tr th {\n",
       "        vertical-align: top;\n",
       "    }\n",
       "\n",
       "    .dataframe thead th {\n",
       "        text-align: right;\n",
       "    }\n",
       "</style>\n",
       "<table border=\"1\" class=\"dataframe\">\n",
       "  <thead>\n",
       "    <tr style=\"text-align: right;\">\n",
       "      <th></th>\n",
       "      <th>max_power</th>\n",
       "      <th>engine</th>\n",
       "      <th>year</th>\n",
       "    </tr>\n",
       "  </thead>\n",
       "  <tbody>\n",
       "    <tr>\n",
       "      <th>1495</th>\n",
       "      <td>62.100000</td>\n",
       "      <td>2523.0</td>\n",
       "      <td>2013</td>\n",
       "    </tr>\n",
       "    <tr>\n",
       "      <th>5818</th>\n",
       "      <td>100.000000</td>\n",
       "      <td>1493.0</td>\n",
       "      <td>2012</td>\n",
       "    </tr>\n",
       "    <tr>\n",
       "      <th>1281</th>\n",
       "      <td>90.000000</td>\n",
       "      <td>1248.0</td>\n",
       "      <td>2010</td>\n",
       "    </tr>\n",
       "    <tr>\n",
       "      <th>1421</th>\n",
       "      <td>90.000000</td>\n",
       "      <td>1396.0</td>\n",
       "      <td>2010</td>\n",
       "    </tr>\n",
       "    <tr>\n",
       "      <th>7173</th>\n",
       "      <td>81.830000</td>\n",
       "      <td>1197.0</td>\n",
       "      <td>2015</td>\n",
       "    </tr>\n",
       "    <tr>\n",
       "      <th>...</th>\n",
       "      <td>...</td>\n",
       "      <td>...</td>\n",
       "      <td>...</td>\n",
       "    </tr>\n",
       "    <tr>\n",
       "      <th>5289</th>\n",
       "      <td>81.800000</td>\n",
       "      <td>1197.0</td>\n",
       "      <td>2014</td>\n",
       "    </tr>\n",
       "    <tr>\n",
       "      <th>5456</th>\n",
       "      <td>92.014809</td>\n",
       "      <td>1248.0</td>\n",
       "      <td>2006</td>\n",
       "    </tr>\n",
       "    <tr>\n",
       "      <th>865</th>\n",
       "      <td>88.760000</td>\n",
       "      <td>1248.0</td>\n",
       "      <td>2015</td>\n",
       "    </tr>\n",
       "    <tr>\n",
       "      <th>7696</th>\n",
       "      <td>46.300000</td>\n",
       "      <td>796.0</td>\n",
       "      <td>2010</td>\n",
       "    </tr>\n",
       "    <tr>\n",
       "      <th>7361</th>\n",
       "      <td>92.014809</td>\n",
       "      <td>1248.0</td>\n",
       "      <td>2010</td>\n",
       "    </tr>\n",
       "  </tbody>\n",
       "</table>\n",
       "<p>5623 rows × 3 columns</p>\n",
       "</div>"
      ],
      "text/plain": [
       "       max_power  engine  year\n",
       "1495   62.100000  2523.0  2013\n",
       "5818  100.000000  1493.0  2012\n",
       "1281   90.000000  1248.0  2010\n",
       "1421   90.000000  1396.0  2010\n",
       "7173   81.830000  1197.0  2015\n",
       "...          ...     ...   ...\n",
       "5289   81.800000  1197.0  2014\n",
       "5456   92.014809  1248.0  2006\n",
       "865    88.760000  1248.0  2015\n",
       "7696   46.300000   796.0  2010\n",
       "7361   92.014809  1248.0  2010\n",
       "\n",
       "[5623 rows x 3 columns]"
      ]
     },
     "execution_count": 38,
     "metadata": {},
     "output_type": "execute_result"
    }
   ],
   "source": [
    "X_train"
   ]
  },
  {
   "cell_type": "code",
   "execution_count": 39,
   "metadata": {},
   "outputs": [
    {
     "data": {
      "text/plain": [
       "max_power    0\n",
       "engine       0\n",
       "year         0\n",
       "dtype: int64"
      ]
     },
     "execution_count": 39,
     "metadata": {},
     "output_type": "execute_result"
    }
   ],
   "source": [
    "X_train[['max_power', 'engine', 'year']].isna().sum()"
   ]
  },
  {
   "cell_type": "code",
   "execution_count": 40,
   "metadata": {},
   "outputs": [],
   "source": [
    "X_test['max_power'].fillna(X_test['max_power'].mean(), inplace=True)\n",
    "X_test['engine'].fillna(X_test['engine'].median(), inplace=True)\n",
    "X_test['year'].fillna(X_test['year'].median(), inplace=True)"
   ]
  },
  {
   "cell_type": "code",
   "execution_count": 41,
   "metadata": {},
   "outputs": [
    {
     "data": {
      "text/plain": [
       "max_power    0\n",
       "engine       0\n",
       "year         0\n",
       "dtype: int64"
      ]
     },
     "execution_count": 41,
     "metadata": {},
     "output_type": "execute_result"
    }
   ],
   "source": [
    "X_test[['max_power', 'engine', 'year']].isna().sum()"
   ]
  },
  {
   "cell_type": "code",
   "execution_count": 42,
   "metadata": {},
   "outputs": [
    {
     "data": {
      "image/png": "[encoded data removed]",
      "text/plain": [
       "<Figure size 2000x3000 with 3 Axes>"
      ]
     },
     "metadata": {},
     "output_type": "display_data"
    }
   ],
   "source": [
    "# Create a dictionary of columns.\n",
    "col_dict = {'max_power':1,'engine':2,'year':3}\n",
    "\n",
    "# Detect outliers in each variable using box plots.\n",
    "plt.figure(figsize=(20,30))\n",
    "\n",
    "for variable,i in col_dict.items():\n",
    "                     plt.subplot(5,4,i)\n",
    "                     plt.boxplot(X_train[variable])\n",
    "                     plt.title(variable)\n",
    "\n",
    "plt.show()"
   ]
  },
  {
   "cell_type": "code",
   "execution_count": 43,
   "metadata": {},
   "outputs": [],
   "source": [
    "def outlier_count(col, data = X_train):\n",
    "    \n",
    "    # calculate your 25% quatile and 75% quatile\n",
    "    q75, q25 = np.percentile(data[col], [75, 25])\n",
    "    \n",
    "    # calculate your inter quatile\n",
    "    iqr = q75 - q25\n",
    "    \n",
    "    # min_val and max_val\n",
    "    min_val = q25 - (iqr*1.5)\n",
    "    max_val = q75 + (iqr*1.5)\n",
    "    \n",
    "    # count number of outliers, which are the data that are less than min_val or more than max_val calculated above\n",
    "    outlier_count = len(np.where((data[col] > max_val) | (data[col] < min_val))[0])\n",
    "    \n",
    "    # calculate the percentage of the outliers\n",
    "    outlier_percent = round(outlier_count/len(data[col])*100, 2)\n",
    "    \n",
    "    if(outlier_count > 0):\n",
    "        print(\"\\n\"+15*'-' + col + 15*'-'+\"\\n\")\n",
    "        print('Number of outliers: {}'.format(outlier_count))\n",
    "        print('Percent of data that is outlier: {}%'.format(outlier_percent))"
   ]
  },
  {
   "cell_type": "code",
   "execution_count": 44,
   "metadata": {},
   "outputs": [
    {
     "name": "stdout",
     "output_type": "stream",
     "text": [
      "Shape of X_train:  (5623, 3)\n",
      "Shape of X_test:  (2410, 3)\n",
      "Shape of y_train:  (5623,)\n",
      "Shape of y_test:  (2410,)\n"
     ]
    }
   ],
   "source": [
    "print(\"Shape of X_train: \", X_train.shape)\n",
    "print(\"Shape of X_test: \", X_test.shape)\n",
    "print(\"Shape of y_train: \", y_train.shape)\n",
    "print(\"Shape of y_test: \", y_test.shape)"
   ]
  },
  {
   "cell_type": "code",
   "execution_count": 45,
   "metadata": {},
   "outputs": [],
   "source": [
    "from sklearn.preprocessing import StandardScaler\n",
    "from sklearn.model_selection import train_test_split\n",
    "import numpy as np\n",
    "from time import time\n",
    "\n",
    "scaler = StandardScaler()\n",
    "X_train = scaler.fit_transform(X_train)\n",
    "X_test  = scaler.transform(X_test)\n",
    "\n",
    "intercept = np.ones((X_train.shape[0], 1))\n",
    "X_train   = np.concatenate((intercept, X_train), axis=1)\n",
    "intercept = np.ones((X_test.shape[0], 1))\n",
    "X_test    = np.concatenate((intercept, X_test), axis=1)"
   ]
  },
  {
   "cell_type": "code",
   "execution_count": 46,
   "metadata": {},
   "outputs": [
    {
     "data": {
      "text/plain": [
       "7497    12.524526\n",
       "4171    12.899220\n",
       "3069    12.676076\n",
       "3841    13.384728\n",
       "322     13.161584\n",
       "          ...    \n",
       "1010    13.304685\n",
       "4857    12.072541\n",
       "4381    12.886641\n",
       "560     12.611538\n",
       "6919    11.156251\n",
       "Name: selling_price, Length: 2410, dtype: float64"
      ]
     },
     "execution_count": 46,
     "metadata": {},
     "output_type": "execute_result"
    }
   ],
   "source": [
    "y_test"
   ]
  },
  {
   "cell_type": "code",
   "execution_count": 47,
   "metadata": {},
   "outputs": [],
   "source": [
    "import pandas as pd\n",
    "import numpy as np\n",
    "\n",
    "# Define custom bin edges based on the maximum values from both y_train and y_test\n",
    "bin_edges = [10, 11.5, 13, 14.5, 16.5]  # Adjust these as needed\n",
    "\n",
    "# Use pd.cut with specified bin edges and labels\n",
    "y_train_cut2 = pd.cut(y_train, bins=bin_edges, labels=[0, 1, 2, 3], ordered=False)\n",
    "y_test_cut2 = pd.cut(y_test, bins=bin_edges, labels=[0, 1, 2, 3], ordered=False)"
   ]
  },
  {
   "cell_type": "code",
   "execution_count": 48,
   "metadata": {},
   "outputs": [
    {
     "data": {
      "text/plain": [
       "(10.433615678556617, 16.11809565095832)"
      ]
     },
     "execution_count": 48,
     "metadata": {},
     "output_type": "execute_result"
    }
   ],
   "source": [
    "y_test.min(), y_test.max()"
   ]
  },
  {
   "cell_type": "code",
   "execution_count": 49,
   "metadata": {},
   "outputs": [
    {
     "data": {
      "text/plain": [
       "(10.308919326755392, 15.789591583986283)"
      ]
     },
     "execution_count": 49,
     "metadata": {},
     "output_type": "execute_result"
    }
   ],
   "source": [
    "y_train.min(), y_train.max()"
   ]
  },
  {
   "cell_type": "code",
   "execution_count": 50,
   "metadata": {},
   "outputs": [
    {
     "data": {
      "text/plain": [
       "1495    1\n",
       "5818    1\n",
       "1281    1\n",
       "1421    1\n",
       "7173    1\n",
       "       ..\n",
       "5289    1\n",
       "5456    1\n",
       "865     2\n",
       "7696    1\n",
       "7361    1\n",
       "Name: selling_price, Length: 5623, dtype: category\n",
       "Categories (4, int64): [0, 1, 2, 3]"
      ]
     },
     "execution_count": 50,
     "metadata": {},
     "output_type": "execute_result"
    }
   ],
   "source": [
    "y_train_cut2"
   ]
  },
  {
   "cell_type": "code",
   "execution_count": 51,
   "metadata": {},
   "outputs": [],
   "source": [
    "import pandas as pd\n",
    "import numpy as np\n",
    "\n",
    "bin_edges = [10, 12, 13, 14, 16.5]  # Adjust these as needed\n",
    "\n",
    "y_train_cut = pd.cut(y_train, bins=bin_edges, labels=[0, 1, 2, 3], ordered=False)\n",
    "y_test_cut = pd.cut(y_test, bins=bin_edges, labels=[0, 1, 2, 3], ordered=False)"
   ]
  },
  {
   "cell_type": "code",
   "execution_count": 52,
   "metadata": {},
   "outputs": [],
   "source": [
    "y_train_cut = y_train_cut.values\n",
    "y_test_cut = y_test_cut.values"
   ]
  },
  {
   "cell_type": "code",
   "execution_count": 53,
   "metadata": {},
   "outputs": [],
   "source": [
    "y_train_cut = np.array(y_train_cut)\n",
    "y_test_cut = np.array(y_test_cut)"
   ]
  },
  {
   "cell_type": "code",
   "execution_count": 54,
   "metadata": {},
   "outputs": [],
   "source": [
    "k = len(set(y_train_cut))\n",
    "m = X_train.shape[0]\n",
    "n = X_train.shape[1]"
   ]
  },
  {
   "cell_type": "code",
   "execution_count": 55,
   "metadata": {},
   "outputs": [
    {
     "name": "stdout",
     "output_type": "stream",
     "text": [
      "Class 0: 652 \n",
      "Class 1: 2052 \n",
      "Class 2: 2462 \n",
      "Class 3: 457 \n"
     ]
    }
   ],
   "source": [
    "unique_classes, class_counts = np.unique(y_train_cut, return_counts=True)\n",
    "\n",
    "# Print the results\n",
    "for class_label, count in zip(unique_classes, class_counts):\n",
    "    print(f\"Class {class_label}: {count} \")"
   ]
  },
  {
   "cell_type": "code",
   "execution_count": 56,
   "metadata": {},
   "outputs": [],
   "source": [
    "from imblearn.over_sampling import SMOTE\n",
    "import numpy as np\n",
    "\n",
    "# Create an instance of the SMOTE class\n",
    "smote = SMOTE(sampling_strategy='auto', random_state=42)\n",
    "\n",
    "# Fit and transform the data to apply SMOTE\n",
    "X_train_resampled, y_train_resampled = smote.fit_resample(X_train, y_train_cut)"
   ]
  },
  {
   "cell_type": "code",
   "execution_count": 57,
   "metadata": {},
   "outputs": [
    {
     "name": "stdout",
     "output_type": "stream",
     "text": [
      "Class 0: 2462 \n",
      "Class 1: 2462 \n",
      "Class 2: 2462 \n",
      "Class 3: 2462 \n"
     ]
    }
   ],
   "source": [
    "unique_classes, class_counts = np.unique(y_train_resampled, return_counts=True)\n",
    "\n",
    "# Print the results\n",
    "for class_label, count in zip(unique_classes, class_counts):\n",
    "    print(f\"Class {class_label}: {count} \")"
   ]
  },
  {
   "cell_type": "code",
   "execution_count": 58,
   "metadata": {},
   "outputs": [
    {
     "data": {
      "text/plain": [
       "<Experiment: artifact_location='mlflow-artifacts:/345735210583965692', creation_time=1696037423162, experiment_id='345735210583965692', last_update_time=1696037423162, lifecycle_stage='active', name='st123050-a3', tags={}>"
      ]
     },
     "execution_count": 58,
     "metadata": {},
     "output_type": "execute_result"
    }
   ],
   "source": [
    "import mlflow\n",
    "import os\n",
    "# This the dockerized method.\n",
    "# We build two docker containers, one for python/jupyter and another for mlflow.\n",
    "# The url `mlflow` is resolved into another container within the same composer.\n",
    "mlflow.set_tracking_uri(\"https://mlflow.cs.ait.ac.th/\")\n",
    "# In the dockerized way, the user who runs this code will be `root`.\n",
    "# The MLflow will also log the run user_id as `root`.\n",
    "# To change that, we need to set this environ[\"LOGNAME\"] to your name.\n",
    "# os.environ[\"LOGNAME\"] = \"st123050-a3\"\n",
    "# mlflow.create_experiment(name=\"chaky-diabetes-example\")  #create if you haven't create\n",
    "mlflow.set_experiment(experiment_name=\"st123050-a3\")"
   ]
  },
  {
   "cell_type": "code",
   "execution_count": 59,
   "metadata": {},
   "outputs": [],
   "source": [
    "import pandas as pd\n",
    "class LinearRegression(object):\n",
    "    \n",
    "    #in this class, we add cross validation as well for some spicy code....\n",
    "            \n",
    "    def __init__(self,regularization, n=4, k=4, lr=0.0001,method='batch', num_epochs=2000, batch_size=254):\n",
    "        self.lr         = lr\n",
    "        self.num_epochs = num_epochs\n",
    "        self.batch_size = batch_size\n",
    "        self.method     = method\n",
    "        self.regularization = regularization\n",
    "        self.n = n\n",
    "        self.num_class = k\n",
    "        self.prev_step = 0\n",
    "        self.moment = True\n",
    "\n",
    "    def xaviar (self, size) :\n",
    "        m = size\n",
    "        lower , upper = -(1.0 / np.sqrt(m)), (1.0 / np.sqrt(m))\n",
    "        print(self.n, self.num_class)\n",
    "        numbers = np.random.rand(self.n, self.num_class)\n",
    "        scaled = lower + numbers * (upper - lower)\n",
    "        return scaled\n",
    "    \n",
    "    def fit(self, weight_init,moment ,X_train, y_train):\n",
    "        self.val_loss_old = np.infty\n",
    "        if weight_init == 'zero' :\n",
    "            self.theta = np.zeros(X_train.shape[1])\n",
    "        else :\n",
    "            self.theta = self.xaviar(X_train.shape[1])  \n",
    "        if moment == True :\n",
    "            self.moment = True\n",
    "        else : \n",
    "            self.moment = False        \n",
    "        params = {\"method\": self.method, \"lr\": self.lr, \"reg\": type(self).__name__}\n",
    "        mlflow.log_params(params=params)\n",
    "        for epoch in range(self.num_epochs):\n",
    "            \n",
    "            if self.method == 'sto':\n",
    "                for batch_idx in range(X_train.shape[0]):\n",
    "                    X_method_train = X_train[batch_idx].reshape(1, -1)\n",
    "                    y_method_train = y_train[batch_idx] \n",
    "                    y_method_train = np.array([y_method_train])\n",
    "                    train_loss = self._train(X_method_train, y_method_train)\n",
    "            elif self.method == 'mini':\n",
    "                for batch_idx in range(0, X_train.shape[0], self.batch_size):\n",
    "                    X_method_train = X_train[batch_idx:batch_idx+self.batch_size, :]\n",
    "                    y_method_train = y_train[batch_idx:batch_idx+self.batch_size]\n",
    "                    train_loss = self._train(X_method_train, y_method_train)\n",
    "            else:\n",
    "                X_method_train = X_train\n",
    "                y_method_train = y_train\n",
    "                train_loss = self._train(X_method_train, y_method_train)\n",
    "\n",
    "            if epoch % 500 == 0 :\n",
    "                print(f\"loss at epoch {epoch} = {train_loss}\")  \n",
    "\n",
    "    def _train(self, X, y):\n",
    "        yhat = self.predict(X)\n",
    "        m    = X.shape[0]        \n",
    "        grad = X.T @(yhat - y) + self.regularization.derivation(self.theta)\n",
    "        self.theta = self.theta - (self.lr * grad)\n",
    "        if self.method == 'sto' :\n",
    "            y = np.array([y])\n",
    "        return self.loss(y, yhat)\n",
    "\n",
    "    def loss(self, ytrue, ypred) :\n",
    "        return - np.sum(ytrue * np.log(self.softmax(ypred))) / ytrue.shape[0]\n",
    "    \n",
    "    def softmax(self, h_theta) :\n",
    "        return np.exp(h_theta) / np.sum(np.exp(h_theta), axis=1, keepdims=True)\n",
    "\n",
    "    def predict(self, X):\n",
    "        return self.softmax(X @ self.theta)  \n",
    "    \n",
    "    def _coef(self):\n",
    "        return self.theta[1:]  \n",
    "\n",
    "    def _bias(self):\n",
    "        return self.theta[0]"
   ]
  },
  {
   "cell_type": "code",
   "execution_count": 60,
   "metadata": {},
   "outputs": [],
   "source": [
    "class LassoPenalty:\n",
    "    \n",
    "    def __init__(self, l):\n",
    "        self.l = l # lambda value\n",
    "        \n",
    "    def __call__(self, theta): #__call__ allows us to call class as method\n",
    "        return self.l * np.sum(np.abs(theta))\n",
    "        \n",
    "    def derivation(self, theta):\n",
    "        return self.l * np.sign(theta)\n",
    "    \n",
    "class NormalP:\n",
    "    \n",
    "    def __init__(self, l):\n",
    "        self.l = l # lambda value\n",
    "        \n",
    "    def __call__(self, theta): #__call__ allows us to call class as method\n",
    "        return 0\n",
    "        \n",
    "    def derivation(self, theta):\n",
    "        return 0    \n",
    "    \n",
    "class RidgePenalty:\n",
    "    \n",
    "    def __init__(self, l):\n",
    "        self.l = l\n",
    "        \n",
    "    def __call__(self, theta): #__call__ allows us to call class as method\n",
    "        return self.l * np.sum(np.square(theta))\n",
    "        \n",
    "    def derivation(self, theta):\n",
    "        return self.l * 2 * theta\n",
    "    \n",
    "class ElasticPenalty:\n",
    "    \n",
    "    def __init__(self, l = 0.1, l_ratio = 0.5):\n",
    "        self.l = l \n",
    "        self.l_ratio = l_ratio\n",
    "\n",
    "    def __call__(self, theta):  #__call__ allows us to call class as method\n",
    "        l1_contribution = self.l_ratio * self.l * np.sum(np.abs(theta))\n",
    "        l2_contribution = (1 - self.l_ratio) * self.l * 0.5 * np.sum(np.square(theta))\n",
    "        return (l1_contribution + l2_contribution)\n",
    "\n",
    "    def derivation(self, theta):\n",
    "        l1_derivation = self.l * self.l_ratio * np.sign(theta)\n",
    "        l2_derivation = self.l * (1 - self.l_ratio) * theta\n",
    "        return (l1_derivation + l2_derivation)\n",
    "    \n",
    "class Lasso(LinearRegression):\n",
    "    \n",
    "    def __init__(self, method, lr, l):\n",
    "        self.regularization = LassoPenalty(l)\n",
    "        super().__init__(self.regularization, lr, method)\n",
    "        \n",
    "class Ridge(LinearRegression):\n",
    "    \n",
    "    def __init__(self, method, lr, l):\n",
    "        self.regularization = RidgePenalty(0.8)\n",
    "        super().__init__(self.regularization,4,4, lr, method)\n",
    "        \n",
    "class ElasticNet(LinearRegression):\n",
    "    \n",
    "    def __init__(self, method, lr, l, l_ratio=0.5):\n",
    "        self.regularization = ElasticPenalty(l, l_ratio)\n",
    "        super().__init__(self.regularization, lr, method)\n",
    "\n",
    "class Normal(LinearRegression):\n",
    "    \n",
    "    def __init__(self, method, lr, l):\n",
    "        self.regularization = NormalP(l)\n",
    "        super().__init__(self.regularization, lr, method)        \n"
   ]
  },
  {
   "cell_type": "code",
   "execution_count": 61,
   "metadata": {},
   "outputs": [],
   "source": [
    "#helper function for looping classnames\n",
    "import sys\n",
    "\n",
    "def str_to_class(classname):\n",
    "    return getattr(sys.modules[__name__], classname)"
   ]
  },
  {
   "cell_type": "code",
   "execution_count": 62,
   "metadata": {},
   "outputs": [],
   "source": [
    "def encode(orig) :\n",
    "    num_classes = np.max(orig) + 1\n",
    "    result_array = np.zeros((orig.shape[0], num_classes))\n",
    "    result_array[np.arange(orig.shape[0]), orig.flatten()] = 1\n",
    "    return result_array"
   ]
  },
  {
   "cell_type": "code",
   "execution_count": 63,
   "metadata": {},
   "outputs": [],
   "source": [
    "encoded_resample_y = encode(y_train_resampled)"
   ]
  },
  {
   "cell_type": "code",
   "execution_count": 64,
   "metadata": {},
   "outputs": [
    {
     "data": {
      "text/plain": [
       "array([1, 1, 1, ..., 2, 1, 1], dtype=int64)"
      ]
     },
     "execution_count": 64,
     "metadata": {},
     "output_type": "execute_result"
    }
   ],
   "source": [
    "y_train_cut"
   ]
  },
  {
   "cell_type": "code",
   "execution_count": 65,
   "metadata": {},
   "outputs": [],
   "source": [
    "encoded_y_test = encode(y_test_cut)"
   ]
  },
  {
   "cell_type": "code",
   "execution_count": 66,
   "metadata": {},
   "outputs": [
    {
     "data": {
      "text/plain": [
       "array([[0., 1., 0., 0.],\n",
       "       [0., 1., 0., 0.],\n",
       "       [0., 1., 0., 0.],\n",
       "       ...,\n",
       "       [0., 1., 0., 0.],\n",
       "       [0., 1., 0., 0.],\n",
       "       [1., 0., 0., 0.]])"
      ]
     },
     "execution_count": 66,
     "metadata": {},
     "output_type": "execute_result"
    }
   ],
   "source": [
    "encoded_y_test"
   ]
  },
  {
   "cell_type": "code",
   "execution_count": 67,
   "metadata": {},
   "outputs": [],
   "source": [
    "def accuracy(yhat, ytrue) :\n",
    "    correct = 0\n",
    "    for idx, v in enumerate(ytrue) :\n",
    "        if v == yhat[idx] :\n",
    "            correct += 1\n",
    "    return  correct/len(yhat)       \n",
    "\n",
    "def precision(yhat, ytrue, class_det) :\n",
    "    tp = 0\n",
    "    fp = 0\n",
    "    for idx , a in enumerate(ytrue) :\n",
    "        if yhat[idx] == class_det and a == class_det :\n",
    "            tp += 1\n",
    "        if yhat[idx] == class_det and a != class_det :\n",
    "            fp += 1\n",
    "    if tp + fp == 0:\n",
    "        precision = 0\n",
    "    else:\n",
    "        precision = tp / (tp + fp)        \n",
    "    return precision\n",
    "\n",
    "def recall(yhat, ytrue, class_det) :\n",
    "    tp = 0\n",
    "    fn = 0\n",
    "    for idx , a in enumerate(ytrue) :\n",
    "        if yhat[idx] == class_det and a == class_det :\n",
    "            tp += 1\n",
    "        if yhat[idx] != class_det and a == class_det :\n",
    "            fn += 1\n",
    "        if tp+fn == 0:\n",
    "            recall = 0\n",
    "        else :\n",
    "            recall = tp/(tp+fn)\n",
    "\n",
    "    return recall\n",
    "\n",
    "def f1(prec, rec):\n",
    "    if prec == 0 or rec == 0:\n",
    "        return 0  # Handle the case where either precision or recall is zero\n",
    "    return (2 * prec * rec) / (prec + rec)\n",
    "\n",
    "def marco_precision(list_precise) :\n",
    "    return np.array(list_precise).mean()\n",
    "def marco_recall(list_recall) :\n",
    "    return np.array(list_recall).mean()\n",
    "def marco_f1(list_f1) :\n",
    "    return np.array(list_f1).mean()\n",
    "\n",
    "def weight_precision(list_precise) :\n",
    "    return ( 0.2*list_precise[0] + 0.3*list_precise[1] + 0.2*list_precise[2] + 0.3*list_precise[3])\n",
    "def weight_recall(list_recall) :\n",
    "    return ( 0.2*list_recall[0] + 0.3*list_recall[1] + 0.2*list_recall[2] + 0.3*list_recall[3])\n",
    "def weight_f1(list_f1) :\n",
    "    return ( 0.2*list_f1[0] + 0.3*list_f1[1] + 0.2*list_f1[2] + 0.3*list_f1[3])"
   ]
  },
  {
   "cell_type": "code",
   "execution_count": 68,
   "metadata": {},
   "outputs": [
    {
     "name": "stdout",
     "output_type": "stream",
     "text": [
      "===== Ridge-mini-lr=0.0003--init_weight with xaviar use mometum =====\n",
      "4 4\n",
      "loss at epoch 0 = 0.8640486240464177\n",
      "loss at epoch 500 = 0.824054986148013\n",
      "loss at epoch 1000 = 0.8240549861477585\n",
      "loss at epoch 1500 = 0.8240549861477584\n",
      "cc\n"
     ]
    }
   ],
   "source": [
    "re = [\"Ridge\"]\n",
    "lrs = [0.0003]\n",
    "method_rr = ['mini']\n",
    "init_method = ['xaviar']\n",
    "\n",
    "for reg in re:\n",
    "    for method in method_rr :\n",
    "        for lr in lrs:        \n",
    "            for init_w in init_method :\n",
    "                # for moment in momentum :\n",
    "                params = {\"method\": method,\"lr\": lr , \"l\": 0.2}\n",
    "                mlflow.start_run(run_name=f\"method-minibatch-lr-{params['lr']}-reg-{reg}\")\n",
    "                \n",
    "                print(\"=\"*5, f\"{reg}-{method}-lr={lr}--init_weight with {init_w} use mometum\", \"=\"*5)\n",
    "\n",
    "                type_of_regression = str_to_class(reg)    #Ridge, Lasso, ElasticNet\n",
    "                model = type_of_regression(**params)  \n",
    "                model.fit(init_method,False,X_train_resampled, encoded_resample_y)\n",
    "                yhat = model.predict(X_test)\n",
    "                losses = model.loss(encoded_y_test, yhat)\n",
    "                yhat = np.argmax(yhat, axis=1)\n",
    "                acc = accuracy(yhat,y_test_cut)\n",
    "                y_pred = yhat\n",
    "                y_true = y_test_cut\n",
    "                precision_0 = precision(y_pred, y_true, 0)\n",
    "                recall_0 = recall(y_pred, y_true, 0)\n",
    "                f1_score_0 = f1(precision_0, recall_0)\n",
    "                support_0 = np.sum(y_true == 0)\n",
    "                print('cc')\n",
    "\n",
    "                precision_1 = precision(y_pred, y_true, 1)\n",
    "                recall_1 = recall(y_pred, y_true, 1)\n",
    "                f1_score_1 = f1(precision_1, recall_1)\n",
    "                support_1 = np.sum(y_true == 1)\n",
    "\n",
    "                precision_2 = precision(y_pred, y_true, 2)\n",
    "                recall_2 = recall(y_pred, y_true, 2)\n",
    "                f1_score_2 = f1(precision_2, recall_2)\n",
    "                support_2 = np.sum(y_true == 2)\n",
    "\n",
    "                precision_3 = precision(y_pred, y_true, 3)\n",
    "                recall_3 = recall(y_pred, y_true, 3)\n",
    "                f1_score_3 = f1(precision_3, recall_3)\n",
    "                support_3 = np.sum(y_true == 3)\n",
    "\n",
    "                correct_predictions = sum(1 for pred, true in zip(y_pred, y_true) if pred == true)\n",
    "                accuracy_total = correct_predictions / len(y_true)\n",
    "\n",
    "                macro_avg_precision = marco_precision([precision_0,precision_1,precision_2, precision_3])\n",
    "                macro_avg_recall = marco_recall([recall_0,recall_1,recall_2 , recall_3])\n",
    "                macro_avg_f1_score = marco_f1([f1_score_0, f1_score_1, f1_score_2, f1_score_3])\n",
    "                macro_avg_support = len(y_true)\n",
    "\n",
    "                weighted_avg_precision = weight_precision([precision_0,precision_1,precision_2, precision_3])\n",
    "                weighted_avg_recall = weight_recall([recall_0,recall_1,recall_2 , recall_3])\n",
    "                weighted_avg_f1_score = weight_f1([f1_score_0, f1_score_1, f1_score_2, f1_score_3])\n",
    "                weighted_avg_support = len(y_true)\n",
    "                mlflow.log_metric(key=\"test_loss\", value=losses)\n",
    "                mlflow.log_metric(key=\"accuracy\", value=acc)\n",
    "                mlflow.log_metric(key=\"f1-class0\", value=f1_score_0)\n",
    "                mlflow.log_metric(key=\"f1-class1\", value=f1_score_1)\n",
    "                mlflow.log_metric(key=\"f1-class2\", value=f1_score_2)\n",
    "                mlflow.log_metric(key=\"f1-class3\", value=f1_score_3)\n",
    "                mlflow.log_metric(key=\"f1-marco\", value=macro_avg_f1_score)\n",
    "                mlflow.log_metric(key=\"f1-weight\", value=weighted_avg_f1_score)\n",
    "                signature = mlflow.models.infer_signature(X_train, model.predict(X_train))\n",
    "                mlflow.sklearn.log_model(model, artifact_path='model', signature=signature)\n",
    "                mlflow.end_run()"
   ]
  },
  {
   "cell_type": "code",
   "execution_count": 69,
   "metadata": {},
   "outputs": [],
   "source": [
    "a = model.predict(X_test)"
   ]
  },
  {
   "cell_type": "code",
   "execution_count": 128,
   "metadata": {},
   "outputs": [
    {
     "data": {
      "text/plain": [
       "array([1, 1, 1, ..., 1, 1, 0], dtype=int64)"
      ]
     },
     "execution_count": 128,
     "metadata": {},
     "output_type": "execute_result"
    }
   ],
   "source": [
    "y_test_cut"
   ]
  },
  {
   "cell_type": "code",
   "execution_count": 326,
   "metadata": {},
   "outputs": [],
   "source": [
    "import pickle as pkl\n",
    "\n",
    "pkl.dump(X_train_resampled, open('./x_train.pkl', 'wb'))\n",
    "pkl.dump(encoded_resample_y, open('./y_train.pkl', 'wb'))\n"
   ]
  },
  {
   "cell_type": "code",
   "execution_count": 65,
   "metadata": {},
   "outputs": [
    {
     "data": {
      "text/plain": [
       "1.8428577632022782"
      ]
     },
     "execution_count": 65,
     "metadata": {},
     "output_type": "execute_result"
    }
   ],
   "source": [
    "pdd = model.predict(X_train_resampled)\n",
    "model.loss(encoded_resample_y, pdd)"
   ]
  },
  {
   "cell_type": "code",
   "execution_count": 148,
   "metadata": {},
   "outputs": [
    {
     "data": {
      "text/plain": [
       "(10304,)"
      ]
     },
     "execution_count": 148,
     "metadata": {},
     "output_type": "execute_result"
    }
   ],
   "source": [
    "y_train_resampled.shape"
   ]
  },
  {
   "cell_type": "code",
   "execution_count": 51,
   "metadata": {},
   "outputs": [],
   "source": [
    "yhat = np.array([[5], [5], [5]])\n",
    "ytrue = np.array([[5], [5], [5]])"
   ]
  },
  {
   "cell_type": "code",
   "execution_count": 137,
   "metadata": {},
   "outputs": [
    {
     "data": {
      "text/plain": [
       "array([1, 1, 1, ..., 1, 1, 0], dtype=int64)"
      ]
     },
     "execution_count": 137,
     "metadata": {},
     "output_type": "execute_result"
    }
   ],
   "source": [
    "np.argmax(a, axis=1)"
   ]
  },
  {
   "cell_type": "code",
   "execution_count": 139,
   "metadata": {},
   "outputs": [
    {
     "data": {
      "text/plain": [
       "7497    12.524526\n",
       "4171    12.899220\n",
       "3069    12.676076\n",
       "3841    13.384728\n",
       "322     13.161584\n",
       "          ...    \n",
       "1010    13.304685\n",
       "4857    12.072541\n",
       "4381    12.886641\n",
       "560     12.611538\n",
       "6919    11.156251\n",
       "Name: selling_price, Length: 2410, dtype: float64"
      ]
     },
     "execution_count": 139,
     "metadata": {},
     "output_type": "execute_result"
    }
   ],
   "source": [
    "y_test"
   ]
  },
  {
   "cell_type": "code",
   "execution_count": 70,
   "metadata": {},
   "outputs": [
    {
     "data": {
      "text/plain": [
       "0.7298755186721991"
      ]
     },
     "execution_count": 70,
     "metadata": {},
     "output_type": "execute_result"
    }
   ],
   "source": [
    "accuracy(np.argmax(a, axis=1),y_test_cut)"
   ]
  },
  {
   "cell_type": "code",
   "execution_count": 71,
   "metadata": {},
   "outputs": [],
   "source": [
    "def precision(yhat, ytrue, class_det) :\n",
    "    tp = 0\n",
    "    fp = 0\n",
    "    for idx , a in enumerate(ytrue) :\n",
    "        if yhat[idx] == class_det and a == class_det :\n",
    "            tp += 1\n",
    "        if yhat[idx] == class_det and a != class_det :\n",
    "            fp += 1\n",
    "    if tp + fp == 0:\n",
    "        precision = 0\n",
    "    else:\n",
    "        precision = tp / (tp + fp)        \n",
    "    return precision"
   ]
  },
  {
   "cell_type": "code",
   "execution_count": 72,
   "metadata": {},
   "outputs": [],
   "source": [
    "def recall(yhat, ytrue, class_det) :\n",
    "    tp = 0\n",
    "    fn = 0\n",
    "    for idx , a in enumerate(ytrue) :\n",
    "        if yhat[idx] == class_det and a == class_det :\n",
    "            tp += 1\n",
    "        if yhat[idx] != class_det and a == class_det :\n",
    "            fn += 1\n",
    "        if tp+fn == 0:\n",
    "            recall = 0\n",
    "        else :\n",
    "            recall = tp/(tp+fn)\n",
    "\n",
    "    return recall"
   ]
  },
  {
   "cell_type": "code",
   "execution_count": 73,
   "metadata": {},
   "outputs": [],
   "source": [
    "recal = recall(np.argmax(a, axis=1),y_test_cut, 4)"
   ]
  },
  {
   "cell_type": "code",
   "execution_count": 80,
   "metadata": {},
   "outputs": [
    {
     "data": {
      "text/plain": [
       "(2, 2)"
      ]
     },
     "execution_count": 80,
     "metadata": {},
     "output_type": "execute_result"
    }
   ],
   "source": [
    "np.argmax(a, axis=1)[2000], y_test_cut[2000]"
   ]
  },
  {
   "cell_type": "code",
   "execution_count": 85,
   "metadata": {},
   "outputs": [
    {
     "data": {
      "text/plain": [
       "0.4603174603174603"
      ]
     },
     "execution_count": 85,
     "metadata": {},
     "output_type": "execute_result"
    }
   ],
   "source": [
    "precision(np.argmax(a, axis=1),y_test_cut, 3)"
   ]
  },
  {
   "cell_type": "code",
   "execution_count": 86,
   "metadata": {},
   "outputs": [],
   "source": [
    "def f1(prec, rec):\n",
    "    if prec == 0 or rec == 0:\n",
    "        return 0  # Handle the case where either precision or recall is zero\n",
    "    return (2 * prec * rec) / (prec + rec)"
   ]
  },
  {
   "cell_type": "code",
   "execution_count": 87,
   "metadata": {},
   "outputs": [],
   "source": [
    "def marco_precision(list_precise) :\n",
    "    return np.array(list_precise).mean()\n",
    "def marco_recall(list_recall) :\n",
    "    return np.array(list_recall).mean()\n",
    "def marco_f1(list_f1) :\n",
    "    return np.array(list_f1).mean()"
   ]
  },
  {
   "cell_type": "code",
   "execution_count": 88,
   "metadata": {},
   "outputs": [],
   "source": [
    "def weight_precision(list_precise) :\n",
    "    return ( 0.2*list_precise[0] + 0.3*list_precise[1] + 0.2*list_precise[2] + 0.3*list_precise[3])\n",
    "def weight_recall(list_recall) :\n",
    "    return ( 0.2*list_recall[0] + 0.3*list_recall[1] + 0.2*list_recall[2] + 0.3*list_recall[3])\n",
    "def weight_f1(list_f1) :\n",
    "    return ( 0.2*list_f1[0] + 0.3*list_f1[1] + 0.2*list_f1[2] + 0.3*list_f1[3])"
   ]
  },
  {
   "cell_type": "code",
   "execution_count": 89,
   "metadata": {},
   "outputs": [
    {
     "data": {
      "text/plain": [
       "1.0"
      ]
     },
     "execution_count": 89,
     "metadata": {},
     "output_type": "execute_result"
    }
   ],
   "source": [
    "weight_recall([1,1,1,1])"
   ]
  },
  {
   "cell_type": "code",
   "execution_count": 90,
   "metadata": {},
   "outputs": [
    {
     "name": "stdout",
     "output_type": "stream",
     "text": [
      "              precision    recall  f1-score   support\n",
      "\n",
      "     class 0       0.28      0.93      0.44        88\n",
      "     class 1       0.85      0.64      0.73      1085\n",
      "     class 2       0.82      0.78      0.80      1118\n",
      "     class 3       0.46      0.97      0.63       119\n",
      "\n",
      "    accuracy                           0.73      2410\n",
      "   macro avg       0.60      0.83      0.65      2410\n",
      "weighted avg       0.80      0.73      0.75      2410\n",
      "\n"
     ]
    }
   ],
   "source": [
    "from sklearn.metrics import classification_report\n",
    "y_true = [0, 1, 2, 2, 2, 3, 3]\n",
    "y_pred = [0, 0, 2, 2, 1, 2, 3]\n",
    "target_names = ['class 0', 'class 1', 'class 2', 'class 3']\n",
    "print(classification_report(y_test_cut,np.argmax(a, axis=1), target_names=target_names ))\n"
   ]
  },
  {
   "cell_type": "code",
   "execution_count": 92,
   "metadata": {},
   "outputs": [],
   "source": [
    "y_true = y_test_cut\n",
    "y_pred = np.argmax(a, axis=1)"
   ]
  },
  {
   "cell_type": "code",
   "execution_count": 97,
   "metadata": {},
   "outputs": [
    {
     "name": "stdout",
     "output_type": "stream",
     "text": [
      "cc\n",
      "     class 0       0.28      0.93      0.44         88\n",
      "     class 1       0.85      0.64      0.73         1085\n",
      "     class 2       0.82      0.78      0.80         1118\n",
      "     class 3       0.46      0.97      0.63         119\n",
      "\n",
      "    accuracy                           0.73         2410\n",
      "   macro avg       0.60      0.83      0.65         2410\n",
      "weighted avg       0.61      0.83      0.65         2410\n"
     ]
    }
   ],
   "source": [
    "precision_0 = precision(y_pred, y_true, 0)\n",
    "recall_0 = recall(y_pred, y_true, 0)\n",
    "f1_score_0 = f1(precision_0, recall_0)\n",
    "support_0 = np.sum(y_true == 0)\n",
    "print('cc')\n",
    "\n",
    "precision_1 = precision(y_pred, y_true, 1)\n",
    "recall_1 = recall(y_pred, y_true, 1)\n",
    "f1_score_1 = f1(precision_1, recall_1)\n",
    "support_1 = np.sum(y_true == 1)\n",
    "\n",
    "precision_2 = precision(y_pred, y_true, 2)\n",
    "recall_2 = recall(y_pred, y_true, 2)\n",
    "f1_score_2 = f1(precision_2, recall_2)\n",
    "support_2 = np.sum(y_true == 2)\n",
    "\n",
    "precision_3 = precision(y_pred, y_true, 3)\n",
    "recall_3 = recall(y_pred, y_true, 3)\n",
    "f1_score_3 = f1(precision_3, recall_3)\n",
    "support_3 = np.sum(y_true == 3)\n",
    "\n",
    "correct_predictions = sum(1 for pred, true in zip(y_pred, y_true) if pred == true)\n",
    "accuracy_total = correct_predictions / len(y_true)\n",
    "\n",
    "macro_avg_precision = marco_precision([precision_0,precision_1,precision_2, precision_3])\n",
    "macro_avg_recall = marco_recall([recall_0,recall_1,recall_2 , recall_3])\n",
    "macro_avg_f1_score = marco_f1([f1_score_0, f1_score_1, f1_score_2, f1_score_3])\n",
    "macro_avg_support = len(y_true)\n",
    "\n",
    "weighted_avg_precision = weight_precision([precision_0,precision_1,precision_2, precision_3])\n",
    "weighted_avg_recall = weight_recall([recall_0,recall_1,recall_2 , recall_3])\n",
    "weighted_avg_f1_score = weight_f1([f1_score_0, f1_score_1, f1_score_2, f1_score_3])\n",
    "weighted_avg_support = len(y_true)\n",
    "\n",
    "print(f\"     class 0       {precision_0:.2f}      {recall_0:.2f}      {f1_score_0:.2f}         {support_0}\")\n",
    "print(f\"     class 1       {precision_1:.2f}      {recall_1:.2f}      {f1_score_1:.2f}         {support_1}\")\n",
    "print(f\"     class 2       {precision_2:.2f}      {recall_2:.2f}      {f1_score_2:.2f}         {support_2}\")\n",
    "print(f\"     class 3       {precision_3:.2f}      {recall_3:.2f}      {f1_score_3:.2f}         {support_3}\")\n",
    "print()\n",
    "print(f\"    accuracy                           {accuracy_total:.2f}         {len(y_true)}\")  # support for accuracy is the total count\n",
    "print(f\"   macro avg       {macro_avg_precision:.2f}      {macro_avg_recall:.2f}      {macro_avg_f1_score:.2f}         {macro_avg_support}\")\n",
    "print(f\"weighted avg       {weighted_avg_precision:.2f}      {weighted_avg_recall:.2f}      {weighted_avg_f1_score:.2f}         {weighted_avg_support}\")"
   ]
  },
  {
   "cell_type": "code",
   "execution_count": 98,
   "metadata": {},
   "outputs": [
    {
     "data": {
      "image/png": "[encoded data removed]",
      "text/plain": [
       "<Figure size 800x600 with 2 Axes>"
      ]
     },
     "metadata": {},
     "output_type": "display_data"
    }
   ],
   "source": [
    "import numpy as np\n",
    "import matplotlib.pyplot as plt\n",
    "import seaborn as sns\n",
    "\n",
    "\n",
    "num_classes = len(np.unique(y_true))\n",
    "confusion_matrix = np.zeros((num_classes, num_classes))\n",
    "for i in range(len(y_true)):\n",
    "    confusion_matrix[y_true[i]][y_pred[i]] += 1\n",
    "\n",
    "class_labels = [\"class 0\", \"class 1\", \"class 2\", \"class 3\"]\n",
    "\n",
    "plt.figure(figsize=(8, 6))\n",
    "sns.set(font_scale=1.2)\n",
    "sns.heatmap(confusion_matrix, annot=True, cmap=\"Blues\", fmt=\".2f\",\n",
    "            xticklabels=target_names, yticklabels=target_names)\n",
    "plt.xlabel(\"Predicted\")\n",
    "plt.ylabel(\"True\")\n",
    "plt.title(\"Confusion Matrix\")\n",
    "plt.show()\n"
   ]
  }
 ],
 "metadata": {
  "kernelspec": {
   "display_name": "NLP",
   "language": "python",
   "name": "python3"
  },
  "language_info": {
   "codemirror_mode": {
    "name": "ipython",
    "version": 3
   },
   "file_extension": ".py",
   "mimetype": "text/x-python",
   "name": "python",
   "nbconvert_exporter": "python",
   "pygments_lexer": "ipython3",
   "version": "3.8.16"
  },
  "orig_nbformat": 4
 },
 "nbformat": 4,
 "nbformat_minor": 2
}
