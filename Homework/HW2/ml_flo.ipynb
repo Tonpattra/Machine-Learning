{
 "cells": [
  {
   "cell_type": "code",
   "execution_count": 1,
   "metadata": {},
   "outputs": [
    {
     "name": "stdout",
     "output_type": "stream",
     "text": [
      "[2023-09-11 23:18:04 +0700] [13019] [INFO] Starting gunicorn 21.2.0\n",
      "[2023-09-11 23:18:04 +0700] [13019] [INFO] Listening at: http://0.0.0.0:5000 (13019)\n",
      "[2023-09-11 23:18:04 +0700] [13019] [INFO] Using worker: sync\n",
      "[2023-09-11 23:18:04 +0700] [13020] [INFO] Booting worker with pid: 13020\n",
      "[2023-09-11 23:18:04 +0700] [13021] [INFO] Booting worker with pid: 13021\n",
      "[2023-09-11 23:18:04 +0700] [13022] [INFO] Booting worker with pid: 13022\n",
      "[2023-09-11 23:18:04 +0700] [13023] [INFO] Booting worker with pid: 13023\n",
      "^C\n",
      "[2023-09-12 00:37:14 +0700] [13019] [INFO] Handling signal: int\n",
      "[2023-09-12 00:37:14 +0700] [13020] [INFO] Worker exiting (pid: 13020)\n",
      "[2023-09-12 00:37:14 +0700] [13023] [INFO] Worker exiting (pid: 13023)\n",
      "[2023-09-12 00:37:14 +0700] [13022] [INFO] Worker exiting (pid: 13022)\n",
      "[2023-09-12 00:37:14 +0700] [13021] [INFO] Worker exiting (pid: 13021)\n"
     ]
    }
   ],
   "source": [
    "!mlflow server --host 0.0.0.0"
   ]
  }
 ],
 "metadata": {
  "kernelspec": {
   "display_name": "Python 3",
   "language": "python",
   "name": "python3"
  },
  "language_info": {
   "codemirror_mode": {
    "name": "ipython",
    "version": 3
   },
   "file_extension": ".py",
   "mimetype": "text/x-python",
   "name": "python",
   "nbconvert_exporter": "python",
   "pygments_lexer": "ipython3",
   "version": "3.8.16"
  },
  "orig_nbformat": 4
 },
 "nbformat": 4,
 "nbformat_minor": 2
}
