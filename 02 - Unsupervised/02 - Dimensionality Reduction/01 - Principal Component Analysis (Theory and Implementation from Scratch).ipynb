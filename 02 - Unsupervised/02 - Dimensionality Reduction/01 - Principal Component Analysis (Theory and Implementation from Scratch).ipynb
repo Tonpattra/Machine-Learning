{
 "cells": [
  {
   "attachments": {},
   "cell_type": "markdown",
   "metadata": {},
   "source": [
    "# Principal Component Analysis"
   ]
  },
  {
   "cell_type": "code",
   "execution_count": 10,
   "metadata": {},
   "outputs": [],
   "source": [
    "import numpy as np\n",
    "import matplotlib.pyplot as plt"
   ]
  },
  {
   "attachments": {},
   "cell_type": "markdown",
   "metadata": {},
   "source": [
    "Working directly with high-dimensional data comes with some difficulties: \n",
    "\n",
    "- It is hard to analyze, \n",
    "- interpretation is difficult, \n",
    "- visualization is nearly impossible, and \n",
    "- (from a practical point of view) storage of the data vectors can be expensive. \n",
    "\n",
    "Dimensionality reduction exploits structure and correlation and allows us to work with a more compact rep- resentation of the data, ideally without losing information. \n",
    "\n",
    "In this lecture, we will discuss principal component analysis (PCA), an algorithm for linear dimensionality reduction. PCA, proposed by Pearson (1901) and Hotelling (1933), has been around for more than 100 years and is still one of the most commonly used techniques for dimensionality reduction. It also inspires more advanced technique such as \"autoencoders\" in deep neural networks.\n",
    "\n",
    "**Problem**\n",
    "\n",
    "In PCA, we are interested in finding projection $\\tilde{x}^{(i)}$ of data points $x^{(i)}$ that are as similar to the original data points as possible, but which have a significantly lower intrinsic dimensionality.\n",
    "\n",
    "More concretely, we consider an i.i.d. dataset $X = \\{x^{(1)},\\cdots,x^{(m)}\\}, x^{(i)} \\in \\mathbb{R}^n$, with mean 0 and shape of $m\\ \\times n$ size, ($m$ = samples, $n$ = features) that possess the data covariance matrix\n",
    "\n",
    "$$S = \\frac{1}{m}\\sum\\limits_{i=1}^{m} x^{(i)} x^{(i)}$$\n",
    "\n",
    "or \n",
    "\n",
    "$$S = \\frac{1}{m}X^\\top X$$\n",
    "\n",
    "\n",
    "Furthermore, we assume there exists a low dimensional compressed dimension\n",
    "\n",
    "$$z^{(i)} = B^\\top x^{(i)} \\in \\mathbb{R}^{n'}$$\n",
    "\n",
    "of $x^{(i)}$, where we define the projection matrix\n",
    "\n",
    "$$B := [b_1, \\cdots, b_{n'}] \\in \\mathbb{R}^{n \\ \\times \\ n'}$$\n",
    "\n",
    "We assume that the columns of $B$ are orthonormal so that $b_i^\\top b_j = 0$ iff $i \\neq j$ and $b_i^\\top b_i = 1$. We seek an $n'$-dimensional subspace $U \\subseteq \\mathbb{R}^{n}, \\dim(U) = n' < n$ onto which we project the data.  We denote the projected data by $\\tilde{x}^{(i)} \\in U$ and their coordinates (with respect to the basis vectors $b_1, \\cdots, b_{n'}$ of $U$) by $z^{(i)}$.  Our aim is to find projections $\\tilde{x}^{(i)} \\in \\mathbb{R}^{n'}$ so that they are as similar to the original data $x^{(i)}$ and minimize the loss due to compression.\n",
    "\n",
    "**Maximum Variance**\n",
    "\n",
    "PCA is a dimensionality reduction algorithm that maximizes the variance in the low-dimensional representation of the data to retain as much information as possible.  Our aim is to find a matrix $B$ that retains a smuch as possible when compressing data by projecting it on the subspace spanned by the columns $b_1, \\cdots, b_{n'}$ of $B$\n",
    "\n",
    "For the data covariance matrix, we assumed centered data.  We can make this assumpotion without loss of generality: Let us assume $\\mu$ is the mean of the data.  Using the properties of the variance, \n",
    "\n",
    "$$\\mathbb{V}_x \\pm c = \\mathbb{V}_x$$\n",
    "\n",
    "where $c$ is constant; we obtain\n",
    "\n",
    "$$\\mathbb{V}_z[z] = \\mathbb{V}_x[B^\\top (x - \\mu)] = \\mathbb{V}_x[B^\\top x - B^\\top \\mu)] = \\mathbb{V}_x[B^\\top x]$$\n",
    "\n",
    "That is, the variance of the low-dimensional code does not depend on the mean of the data.  Therefore, we assume without loss of generality that the data has mean 0.  This step is actually optional but will make our math easier later on, especially when we calculate the covariance matrix.\n",
    "\n",
    "We use sequential approach to maximize the variance of the low-dimensional code.  We start by seeking a single vector $b_1 \\in \\mathbb{R}^{n}$ that maximizes the variance of the projected data, i.e., we aim to maximize the variance of the first coordinate $z^{(1)}$ of $z \\in \\mathbb{R}^{n'}$\n",
    "so that\n",
    "\n",
    "$$V_1 := \\mathbb{V}[z^{(1)}] = \\frac{1}{m}\\sum\\limits_{i=1}^{m}\\big(z^{(i)}_1\\big)^2 \\tag{A}$$\n",
    "\n",
    "is maximized.  Note that the first component of $z^{(i)}$ is given by\n",
    "\n",
    "$$z^{(i)}_1 = b_1^\\top x^{(i)} \\tag{B}$$\n",
    "\n",
    "i.e., it is the coordinate of the orthogonal projection of $x^{(i)}$ onto the one-dimensional subspace spanned by $b_1$.  We subsitute (B) into (A) yields:\n",
    "\n",
    "$$V_1 = \\frac{1}{m}\\sum\\limits_{i=1}^{m}\\big( b_1^\\top x^{(i)}\\big)^2 = \\frac{1}{m}\\sum\\limits_{i=1}^{m}b_1^\\top x^{(i)}x^{(i)\\top}b_1 \\tag{C}$$\n",
    "\n",
    "$$ =b^\\top_1\\big(\\frac{1}{m}\\sum\\limits_{i=1}^{m}x^{(i)}x^{(i)\\top}\\big)b_1 = b_1^\\top Sb_1 $$\n",
    "\n",
    "where $S$ is the data covariance matrix defined earlier.  Note that in (C), we have used the fact that the dot product of two vectors is symmetric, i.e., $b_1^\\top x^{(i)} = x^{(i)\\top}b_1$.\n",
    "\n",
    "Notice that arbitrarily increasing the magnitude of the vector $b_1$ increases $V_1$, that is, a vector $b_1$ that is two times longer can result in $V_1$ that is potentially four times larger. Therefore, we restrict all solutions to $\\lVert b_1\\rVert^2 = 1$, which results in a constrained optimization problem in which we seek the direction along which the data varies most.\n",
    "\n",
    "This can be written into the constrained optimization problem:\n",
    "\n",
    "$$\n",
    "\\max_{b_1} b_1^\\top Sb_1\n",
    "$$\n",
    "\n",
    "$$\n",
    "\\text{subject to} \\ \\lVert b_1\\rVert^2 = 1\n",
    "$$\n",
    "\n",
    "To solve this, as usual, we use Lagrangian $\\mathscr{L}$\n",
    "\n",
    "$$\\mathscr{L}(b_1, \\beta) = b_1^\\top Sb_1 + \\beta_1(1 - b^\\top_1b_1)$$\n",
    "\n",
    "The partial derivatives of $\\mathscr{L}$ with respect to $b_1$ and $\\beta_1$ are\n",
    "\n",
    "$$\\frac{\\partial \\mathscr{L}}{\\partial b_1} = 2b_1^\\top S - 2\\beta_1b_1^\\top$$\n",
    "\n",
    "$$\\frac{\\partial \\mathscr{L}}{\\partial \\beta_1} = 1 - b_1^\\top b_1 $$\n",
    "\n",
    "Setting these partial derivatives to 0 gives us the relations\n",
    "\n",
    "$$Sb_1 = \\beta_1b_1 \\tag{D}$$\n",
    "$$b^\\top_1b_1 = 1$$\n",
    "\n",
    "Looking at this, we see that $b_1$ is an eigenvector of the data covariance matrix $S$, and the Lagrange multiplier $\\beta_1$ plays the role of the corresponding eigenvalue.\n",
    "\n",
    "Following this eigenvector property (D), we can rewrite our variance objective in (C) as\n",
    "\n",
    "$$V_1 = b^\\top_1Sb_1 = \\beta_1b^\\top_1b_1 = \\beta_1$$\n",
    "\n",
    "i.e., the variance of the data projected onto a one-dimensional subspace equals the eigenvalue that is associated with the basis vector $b_1$ that spans this subspace.  Therefore, to maximize the variance of the low-dimensional code, we choose the basis vector associated with the largest eigenvalue of the data covariance matrix. This eigenvector is called the first *principal component*. We can determine the effect/contribution of the principal component $b_1$ in the original data space by mapping the coordinate $z^{(i)}_1$ back into data space, which gives us the projected data point\n",
    "\n",
    "$$\\tilde{x}^{(i)} = b_1z^{(i)}_1 = b_1b_1^\\top x^{(i)} \\in \\mathbb{R}^n$$\n",
    "\n",
    "in the original data space.  Although $\\tilde{x}^{(i)}$ is a $n$-dimensional vector, it only requires a single coordinate $z^{(i)}_1$ to represent it with respect to the basis vector $b_1 \\in \\mathbb{R}^n$\n",
    "\n",
    "When we consider $n'$-dimensional subspace, for the $j$th principal component where $j = 1, \\cdots, n'$, the variance is\n",
    "\n",
    "$$V_j = b^\\top_jSb_j = \\beta_jb^\\top_jb_j = \\beta_j$$\n",
    "\n",
    "This means that the variance of the data, when projected onto an $n'$-dimensional subspace, equals the sum of the eigenvalues that are associated with the corresponding eigenvectors of the data covariance matrix.\n",
    "\n",
    "Overall, to find an $n'$-dimensional subspace of $\\mathbb{R}^D$ that retains as much information as possible, PCA tells us to choose the columns of the matrix B as the $n'$ eigenvectors of the data covariance matrix $S$ that are associated with the $n'$ largest eigenvalues. The maximum amount of variance PCA can capture with the first $n'$ principal components is\n",
    "\n",
    "$$V_{n'} = \\sum\\limits_{j=1}^{n'} \\beta_j$$\n",
    "\n",
    "where the $\\beta_j$ are the $n'$ largest eigenvalues of the data covariance matrix $S$.  Consequently, the variance lost by data compression via PCA is\n",
    "\n",
    "$$J_{n'} := \\sum\\limits_{j=n'+1}^{n} \\beta_j = V_n - V_{n'}$$\n",
    "\n",
    "Instead of these absolute quantities, it is more useful to define the relative variance ratio as\n",
    "\n",
    "$$J_{n'} = 1 - \\frac{V_{n'}}{V_n} $$\n",
    "\n",
    "**How's related to Singular Value Decomposition (SVD)**\n",
    "\n",
    "In the previous sections, we obtained the basis of the principal subspace as the eigenvectors that are associated with the largest eigenvalues of the data covariance matrix\n",
    "\n",
    "$$S = \\frac{1}{m}\\sum\\limits_{i=1}^mx^{(i)}\\top x^{(i)} = \\frac{1}{m}X^\\top X$$\n",
    "\n",
    "$$X = [x^{(1)}, \\cdots, x^{(m)}] \\in \\mathbb{R}^{n}$$\n",
    "\n",
    "Since the covariance matrix $S$ is a symmetric matrix ($n \\ \\times \\ n$) and so it can be diagonalized:\n",
    "\n",
    "$$ S = VLV^\\top $$\n",
    "\n",
    "where $V$ is a matrix of eigenvectors (each column is an eigenvector) and $L$ is a diagonal matrix with eigenvalues $\\beta_i$ in the decreasing order on the diagonal.  The eigenvectors are called *principal axes* or *principal directions* of the data.  Projections of the data on the principal axes are called *principal components*.  The $j$-th principal component is given by $j$-th column of $XV$.  The coordinates of the $i$-th data point of the new PC space are given by the $i$th row of $XV$.  Note that this $V$ is the matrix form of $B$ describe in the beginning of this lecture.\n",
    "\n",
    "If we now perform singular value decomposition of $X, we obtain a decomposition as follows:\n",
    "\n",
    "$$\\underbrace{X}_{m \\ \\times \\ n} = \\underbrace{U}_{m \\ \\times \\ m} \\ \\ \\underbrace{\\Sigma}_{m \\ \\times \\ n} \\ \\ \\underbrace{V^\\top}_{n \\ \\times \\ n}$$\n",
    "\n",
    "where $U$ and $V$ are orthogonal matrices and $\\Sigma$ is a matrix whose only nonzero entries are the singular values $\\sigma_{ii} \\geq 0$\n",
    "\n",
    "It then follows that\n",
    "\n",
    "$$S = \\frac{1}{m}X^\\top X = \\frac{1}{m}V\\Sigma \\underbrace{U^\\top U}_I \\Sigma^\\top V^\\top = V\\frac{\\Sigma\\Sigma^\\top}{m} V^\\top = V\\frac{\\Sigma^2}{m} V^\\top$$\n",
    "\n",
    "meaning that the singular vectors $V$ are principal directions and that singular values are related to the eigenvalues of covariance matrix via\n",
    "\n",
    "$$\\beta_i = \\frac{\\sigma_i^2}{m}$$\n",
    "\n",
    "Finally, the projected principal components are given by\n",
    "\n",
    "$$XV = USV^\\top V = US$$\n",
    "\n",
    "To summarize:\n",
    "\n",
    "1. If $X = USV^\\top$, then columns of $V$ are principal direction/axes\n",
    "2. Squared singular values are the eigenvalues of covariance matrix\n",
    "3. Columns of $US$ are principal components\n",
    "4. If we want to plot the eigenvector on the original plot, we can use something called \"loadings\", which defines as\n",
    "<code>loading = eigenvectors * sqrt(eigenvalues)</code>  This basically plot the direction scaled by the standard deviation\n",
    "1. Covariance matrix is equal to $\\frac{1}{m}X^\\top X$ only if $X$ is centered, i.e., after minusing the mean away\n",
    "2. In some place, $X$ is of shape $n \\ \\times m$, then $U$ and $V$ exchange interpretations\n",
    "3. If one wants to perform PCA on a correlation matrix (instead of a covariance matrix), then columns of $X$ should not only be centered, but standardized as well, i.e. divided by their standard deviations.\n",
    "4. To reduce the dimensionality from $n$ to $n'$, select $n'$ first columns of $U$, and $n' \\ \\times \\ n'$ upper-left part of $\\Sigma$.  Their product $U_{n'}\\Sigma_{n'}$ is the required $m \\ \\times n'$ matrix containing first $n'$ PCs.\n",
    "5. Further multiplying the first $n'$ PCs by the corresponding principal axes $V_{n'}^\\top$ yields $X_{n'} = U_{n'}\\Sigma_{n'}V_{n'}^\\top$ matrix that has the original $m \\ \\times n$ shape but is of *lower rank* (of rank $n'$).  This matrix $X_{n'}$ provides a *reconstruction of the original data* from the first $n'$ PCs.  \n",
    "6.  If $m > n$, then the last $m - n$ columns of $U$ are arbitrary (and corresponding rows of $\\Sigma$ are constant zero); one should therefore use a thin SVD that returns $U$ of $m \\ \\times n$ size, dropping the useless columns."
   ]
  },
  {
   "attachments": {},
   "cell_type": "markdown",
   "metadata": {},
   "source": [
    "## 1. Scratch"
   ]
  },
  {
   "cell_type": "code",
   "execution_count": 2,
   "metadata": {},
   "outputs": [
    {
     "name": "stdout",
     "output_type": "stream",
     "text": [
      "(200, 2)\n"
     ]
    },
    {
     "data": {
      "image/png": "[encoded data removed]",
      "text/plain": [
       "<Figure size 432x288 with 1 Axes>"
      ]
     },
     "metadata": {
      "needs_background": "light"
     },
     "output_type": "display_data"
    }
   ],
   "source": [
    "import numpy as np\n",
    "import matplotlib.pyplot as plt\n",
    "\n",
    "rng = np.random.RandomState(1)\n",
    "X = np.dot(rng.rand(2, 2), rng.randn(2, 200)).T\n",
    "plt.scatter(X[:, 0], X[:, 1])\n",
    "plt.axis('equal')\n",
    "\n",
    "print(X.shape)"
   ]
  },
  {
   "cell_type": "code",
   "execution_count": 3,
   "metadata": {},
   "outputs": [
    {
     "name": "stdout",
     "output_type": "stream",
     "text": [
      "2\n",
      "Eigenvalue shape:  (2,)\n",
      "Eigenvectors shape:  (2, 2)\n",
      "eigen:  [0.7625315 0.0184779]\n",
      "sum:  0.7810093963961743\n",
      "np.cumsum:  [0.7625315 0.7810094]\n",
      "eigenvector shape:  (2, 2)\n",
      "Variance explained_ratio:  [0.97634101 1.        ]\n",
      "Eigenvalues:  [0.7625315 0.0184779]\n",
      "Eigenvectors (column-wise):  [[-0.94446029  0.32862557]\n",
      " [-0.32862557 -0.94446029]]\n",
      "Mean:  [ 0.03351168 -0.00408072]\n",
      "Old X shape:  (200, 2)\n",
      "Projected X shape:  (200, 2)\n"
     ]
    },
    {
     "data": {
      "text/plain": [
       "(-2.72728878056785,\n",
       " 2.9144798642810295,\n",
       " -0.428095936878651,\n",
       " 0.33954864905102083)"
      ]
     },
     "execution_count": 3,
     "metadata": {},
     "output_type": "execute_result"
    },
    {
     "data": {
      "image/png": "[encoded data removed]",
      "text/plain": [
       "<Figure size 432x288 with 1 Axes>"
      ]
     },
     "metadata": {
      "needs_background": "light"
     },
     "output_type": "display_data"
    },
    {
     "data": {
      "image/png": "[encoded data removed]",
      "text/plain": [
       "<Figure size 432x288 with 1 Axes>"
      ]
     },
     "metadata": {
      "needs_background": "light"
     },
     "output_type": "display_data"
    }
   ],
   "source": [
    "import numpy as np\n",
    "import matplotlib.pyplot as plt\n",
    "\n",
    "rng = np.random.RandomState(1)\n",
    "X = np.dot(rng.rand(2, 2), rng.randn(2, 200)).T\n",
    "\n",
    "def PCA(X, n_components=1):\n",
    "    #1. center the data (center the data, not features, thus axis=0)\n",
    "    mean = np.mean(X, axis=0)\n",
    "    X = (X - mean)\n",
    "    \n",
    "    print(n_components)\n",
    "\n",
    "    #2. find covariance\n",
    "    #the reason we can X.T @ X right away since we already \n",
    "    #center the data)\n",
    "    #did not really use this variable\n",
    "    cov = (X.T @ X) / (X.shape[0] - 1)\n",
    "    \n",
    "    #3. Then simply find the eigenvalues using np.linalg.eig \n",
    "    #by inputting the covariance matrix\n",
    "    eigenvalues, eigenvectors = np.linalg.eigh(cov)\n",
    "     \n",
    "    print(\"Eigenvalue shape: \", eigenvalues.shape) #(n, )\n",
    "    print(\"Eigenvectors shape: \", eigenvectors.shape) #(n, n)\n",
    "\n",
    "    #4. Your n'th principal components will be your first n'th eigenvectors with highest eigenvalues\n",
    "    ix = np.argsort(eigenvalues)[::-1] #sort them from biggest to smallest thus -1\n",
    "\n",
    "    if(n_components > eigenvalues.shape[0]):\n",
    "        raise Exception(\"You cannot have n_components more than number of features!\")\n",
    "    else:\n",
    "        eigenvalues, eigenvectors = eigenvalues[ix], eigenvectors[:, ix]\n",
    "        #get the first nth components\n",
    "        eigenvalues, eigenvectors = eigenvalues[:n_components], eigenvectors[:,:n_components]\n",
    "\n",
    "    print(\"eigen: \", eigenvalues)\n",
    "    print(\"sum: \", np.sum(eigenvalues))\n",
    "    print(\"np.cumsum: \", np.cumsum(eigenvalues))\n",
    "    print(\"eigenvector shape: \", eigenvectors.shape)\n",
    "    #define how much variance is gained after n' component\n",
    "    variance_explained_ratio = np.cumsum(eigenvalues)/np.sum(eigenvalues)\n",
    "\n",
    "    #projected new vector\n",
    "    #during projection, eigenvectors mush be arranged in columns\n",
    "    projected_X = X @ eigenvectors\n",
    "    \n",
    "    #print all info\n",
    "    print(\"Variance explained_ratio: \", variance_explained_ratio) #first component got 97%\n",
    "    print(\"Eigenvalues: \", eigenvalues)\n",
    "    print(\"Eigenvectors (column-wise): \", eigenvectors)\n",
    "    print(\"Mean: \", mean)\n",
    "    print(\"Old X shape: \", X.shape)\n",
    "    print(\"Projected X shape: \", projected_X.shape)\n",
    "    \n",
    "    #return only n_components eigenvalues and vectors\n",
    "    return eigenvalues, eigenvectors, mean, projected_X\n",
    "\n",
    "#copy code from the lectures to plot the eigen values and vectors\n",
    "def draw_vector(v0, v1, ax=None):\n",
    "    ax = ax or plt.gca()  #get current axis\n",
    "    arrowprops=dict(arrowstyle='->',\n",
    "                    linewidth=2,\n",
    "                    shrinkA=0, shrinkB=0)\n",
    "    ax.annotate('', v1, v0, arrowprops=arrowprops)\n",
    "\n",
    "#main code\n",
    "eigenvalues, eigenvectors, mean, projected_X = PCA(X, n_components=2)\n",
    "\n",
    "#looking at the original graph with the loadings\n",
    "plt.scatter(X[:, 0], X[:, 1], alpha=0.2)\n",
    "\n",
    "#.T so each row is eigenvector, so we can loop\n",
    "for length, vector in zip(eigenvalues, eigenvectors.T):\n",
    "    #loadings = eigenvector * (unit size) * sqrt (eigenvalue)\n",
    "    #https://stats.stackexchange.com/questions/143905/loadings-vs-eigenvectors-in-pca-when-to-use-one-or-another\n",
    "    v = vector * 3 *  np.sqrt(length)\n",
    "    draw_vector(mean, mean + v)\n",
    "plt.axis('equal')\n",
    "plt.title('PCA with original data')\n",
    "\n",
    "#projection\n",
    "#you can see that lots of data in the second components is gone\n",
    "plt.figure()\n",
    "plt.scatter(projected_X[:, 0], projected_X[:, 1])\n",
    "plt.xlabel(\"First component\")\n",
    "plt.ylabel(\"Second component\")\n",
    "plt.title(\"Projected X\")\n",
    "plt.axis('equal')"
   ]
  },
  {
   "attachments": {},
   "cell_type": "markdown",
   "metadata": {},
   "source": [
    "## 2. Sklearn\n",
    "\n",
    "Principal component analysis is a fast and flexible unsupervised method for dimensionality reduction in data.\n",
    "\n",
    "Consider the following 200 points:"
   ]
  },
  {
   "cell_type": "code",
   "execution_count": 4,
   "metadata": {},
   "outputs": [
    {
     "data": {
      "image/png": "[encoded data removed]",
      "text/plain": [
       "<Figure size 432x288 with 1 Axes>"
      ]
     },
     "metadata": {
      "needs_background": "light"
     },
     "output_type": "display_data"
    }
   ],
   "source": [
    "import numpy as np\n",
    "import matplotlib.pyplot as plt\n",
    "\n",
    "rng = np.random.RandomState(1)\n",
    "X = np.dot(rng.rand(2, 2), rng.randn(2, 200)).T\n",
    "plt.scatter(X[:, 0], X[:, 1])\n",
    "plt.axis('equal');\n"
   ]
  },
  {
   "cell_type": "markdown",
   "metadata": {},
   "source": [
    "By eye, it is clear that there is a nearly linear relationship between the x and y variables.\n",
    "This is reminiscent of the linear regression data we explored in Linear Regression, but the problem setting here is slightly different: rather than attempting to *predict* the y values from the x values, the unsupervised learning problem attempts to learn about the *relationship* between the x and y values.\n",
    "\n",
    "In principal component analysis, this relationship is quantified by finding a list of the *principal axes* in the data, and using those axes to describe the dataset.\n",
    "Using Scikit-Learn's ``PCA`` estimator, we can compute this as follows:"
   ]
  },
  {
   "cell_type": "code",
   "execution_count": 5,
   "metadata": {},
   "outputs": [
    {
     "data": {
      "text/plain": [
       "PCA(n_components=2)"
      ]
     },
     "execution_count": 5,
     "metadata": {},
     "output_type": "execute_result"
    }
   ],
   "source": [
    "from sklearn.decomposition import PCA\n",
    "pca = PCA(n_components=2)\n",
    "pca.fit(X)"
   ]
  },
  {
   "cell_type": "markdown",
   "metadata": {},
   "source": [
    "*The* fit learns some quantities from the data, most importantly the \"components\" and \"explained variance\":"
   ]
  },
  {
   "cell_type": "code",
   "execution_count": 6,
   "metadata": {},
   "outputs": [
    {
     "name": "stdout",
     "output_type": "stream",
     "text": [
      "Eigenvectors:  [[-0.94446029 -0.32862557]\n",
      " [-0.32862557  0.94446029]]\n",
      "Eigenvalues:  [0.7625315 0.0184779]\n",
      "Mean:  [ 0.03351168 -0.00408072]\n"
     ]
    }
   ],
   "source": [
    "print(\"Eigenvectors: \", pca.components_)\n",
    "print(\"Eigenvalues: \", pca.explained_variance_)\n",
    "print(\"Mean: \", pca.mean_) #center point"
   ]
  },
  {
   "cell_type": "markdown",
   "metadata": {},
   "source": [
    "To see what these numbers mean, let's visualize them as vectors over the input data, using the \"components\" to define the direction of the vector, and the \"explained variance\" to define the squared-length of the vector:"
   ]
  },
  {
   "cell_type": "code",
   "execution_count": 7,
   "metadata": {},
   "outputs": [
    {
     "data": {
      "image/png": "[encoded data removed]",
      "text/plain": [
       "<Figure size 432x288 with 1 Axes>"
      ]
     },
     "metadata": {
      "needs_background": "light"
     },
     "output_type": "display_data"
    }
   ],
   "source": [
    "def draw_vector(v0, v1, ax=None):\n",
    "    ax = ax or plt.gca()  #get current axis\n",
    "    arrowprops=dict(arrowstyle='->',\n",
    "                    linewidth=2,\n",
    "                    shrinkA=0, shrinkB=0)\n",
    "    ax.annotate('', v1, v0, arrowprops=arrowprops)\n",
    "\n",
    "# plot data\n",
    "plt.scatter(X[:, 0], X[:, 1], alpha=0.2)\n",
    "for length, vector in zip(pca.explained_variance_, pca.components_):\n",
    "    #loadings = eigenvector * (unit size) * sqrt (eigenvalue)\n",
    "    v = vector * 3 *  np.sqrt(length)\n",
    "    draw_vector(pca.mean_, pca.mean_ + v)\n",
    "plt.axis('equal');"
   ]
  },
  {
   "cell_type": "markdown",
   "metadata": {},
   "source": [
    "These vectors represent the *principal axes* of the data, and the length of the vector is an indication of how \"important\" that axis is in describing the distribution of the data—more precisely, it is a measure of the variance of the data when projected onto that axis.\n",
    "The projection of each data point onto the principal axes are the \"principal components\" of the data."
   ]
  },
  {
   "attachments": {},
   "cell_type": "markdown",
   "metadata": {},
   "source": [
    "### 3. PCA as dimensionality reduction\n",
    "\n",
    "Using PCA for dimensionality reduction involves zeroing out one or more of the smallest principal components, resulting in a lower-dimensional projection of the data that preserves the maximal data variance.\n",
    "\n",
    "Here is an example of using PCA as a dimensionality reduction transform:"
   ]
  },
  {
   "cell_type": "code",
   "execution_count": 8,
   "metadata": {},
   "outputs": [
    {
     "name": "stdout",
     "output_type": "stream",
     "text": [
      "original shape:    (200, 2)\n",
      "transformed shape: (200, 1)\n"
     ]
    }
   ],
   "source": [
    "pca = PCA(n_components=1)  #you want to transform to 1D hence n_components =1\n",
    "pca.fit(X)\n",
    "X_pca = pca.transform(X)\n",
    "print(\"original shape:   \", X.shape)\n",
    "print(\"transformed shape:\", X_pca.shape)"
   ]
  },
  {
   "cell_type": "markdown",
   "metadata": {},
   "source": [
    "The transformed data has been reduced to a single dimension.\n",
    "To understand the effect of this dimensionality reduction, we can perform the inverse transform of this reduced data and plot it along with the original data:"
   ]
  },
  {
   "cell_type": "code",
   "execution_count": 9,
   "metadata": {},
   "outputs": [
    {
     "data": {
      "image/png": "[encoded data removed]",
      "text/plain": [
       "<Figure size 432x288 with 1 Axes>"
      ]
     },
     "metadata": {
      "needs_background": "light"
     },
     "output_type": "display_data"
    }
   ],
   "source": [
    "y = np.zeros(X_pca.shape[0])\n",
    "plt.scatter(X_pca[:, 0], y, alpha=0.3)  #pca data\n",
    "\n",
    "X_new = pca.inverse_transform(X_pca)  #inverse transform back\n",
    "plt.scatter(X[:, 0], X[:, 1], alpha=0.2)  #original data\n",
    "plt.scatter(X_new[:, 0], X_new[:, 1], alpha=0.8)\n",
    "plt.axis('equal');"
   ]
  },
  {
   "cell_type": "markdown",
   "metadata": {},
   "source": [
    "The light points are the original data, while the dark points are the projected version.\n",
    "This makes clear what a PCA dimensionality reduction means: the information along the least important principal axis or axes is removed, leaving only the component(s) of the data with the highest variance.\n",
    "The fraction of variance that is cut out (proportional to the spread of points about the line formed in this figure) is roughly a measure of how much \"information\" is discarded in this reduction of dimensionality.\n",
    "\n",
    "This reduced-dimension dataset is in some senses \"good enough\" to encode the most important relationships between the points: despite reducing the dimension of the data by 50%, the overall relationship between the data points are mostly preserved."
   ]
  },
  {
   "cell_type": "markdown",
   "metadata": {},
   "source": [
    "### When to / not to use PCA?\n",
    "\n",
    "Because of the versatility and interpretability of PCA, it has been shown to be effective in a wide variety of contexts and disciplines.\n",
    "Given any high-dimensional dataset, we tend to start with PCA in order to visualize the relationship between points (as we did with the digits), to understand the main variance in the data (as we did with the eigenfaces), and to understand the intrinsic dimensionality (by plotting the explained variance ratio).\n",
    "Certainly PCA is not useful for every high-dimensional dataset, but it offers a straightforward and efficient path to gaining insight into high-dimensional data.\n",
    "\n",
    "PCA's **two main weakness** is that it tends to be highly affected by outliers in the data, and its limitation to linear data.  For this reason, many robust variants of PCA have been developed, many of which act to iteratively discard data points that are poorly described by the initial components.\n",
    "Scikit-Learn contains a couple interesting variants on PCA, including ``IncrementalPCA`` and ``SparsePCA``, both also in the ``sklearn.decomposition`` submodule.\n",
    "``IncrementalPCA`` uses a mini-batch method to approximate principal components in very high-dimensional data, while ``SparsePCA`` introduces a regularization term that serves to enforce sparsity of the components and often gives a more interpretable model. ``KernelPCA`` is also useful as a variants of PCA for non-linear dimensionality reduction, through the use of kernels (similar to how svm transform the space)  "
   ]
  },
  {
   "cell_type": "markdown",
   "metadata": {},
   "source": [
    "While PCA is flexible, fast, and easily interpretable, it does not perform well in non-linear situation.  Of course, we got kernel PCA in which it first transform the data space to another dimension in which it can find a linearly separable hyperplane.  \n",
    "\n",
    "There is another class of methods known as manifold learning.  Manifold means a surface of any shape, it can be a curve, a folded sheet, etc.  Thus manifold learning is the idea of understanding the \"shape\" of the data and thus using this information fo cluster the data.  You can imagine paper twirling into very weird shape but it is actually just a 2d paper.  Similarly, Manifold Learning words towards extracting the low-dimensional manifold information that can be used to describe the high dimensional data."
   ]
  },
  {
   "cell_type": "markdown",
   "metadata": {},
   "source": [
    "![](../../Figures/swissroll.png)"
   ]
  }
 ],
 "metadata": {
  "kernelspec": {
   "display_name": "Python 3",
   "language": "python",
   "name": "python3"
  },
  "language_info": {
   "codemirror_mode": {
    "name": "ipython",
    "version": 3
   },
   "file_extension": ".py",
   "mimetype": "text/x-python",
   "name": "python",
   "nbconvert_exporter": "python",
   "pygments_lexer": "ipython3",
   "version": "3.8.6"
  }
 },
 "nbformat": 4,
 "nbformat_minor": 1
}
